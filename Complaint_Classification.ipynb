{
 "cells": [
  {
   "cell_type": "code",
   "execution_count": 179,
   "id": "1801c979-ce46-4c1d-845a-a35e58305414",
   "metadata": {},
   "outputs": [],
   "source": [
    "#importing necessary libraries\n",
    "import pandas as pd\n",
    "import numpy as np\n",
    "from sklearn.model_selection import train_test_split\n",
    "import matplotlib.pyplot as plt\n",
    "import seaborn as sns\n",
    "import re\n",
    "from tensorflow.keras.regularizers import l2\n",
    "import pickle\n",
    "import nltk\n",
    "from nltk.corpus import stopwords\n",
    "from nltk.stem import WordNetLemmatizer\n",
    "from tensorflow.keras.models import Sequential\n",
    "from tensorflow.keras.layers import Embedding, GlobalAveragePooling1D, Dense, Dropout,SimpleRNN,Bidirectional,LSTM,BatchNormalization,Activation\n",
    "from tensorflow.keras.preprocessing.text import Tokenizer\n",
    "from tensorflow.keras.preprocessing.sequence import pad_sequences\n",
    "from sklearn.metrics import classification_report,accuracy_score,precision_score, recall_score, f1_score,confusion_matrix"
   ]
  },
  {
   "cell_type": "code",
   "execution_count": 181,
   "id": "bd0e1d54-eca2-4c22-8566-fd7e8ff4e012",
   "metadata": {},
   "outputs": [],
   "source": [
    "# loding dataset\n",
    "df=pd.read_csv(\"updated_dataset.csv\")"
   ]
  },
  {
   "cell_type": "markdown",
   "id": "32f300f0-4660-49ec-8234-7e741900a241",
   "metadata": {},
   "source": [
    "<h3>EDA(Exploratory Data Analysis)</h3>"
   ]
  },
  {
   "cell_type": "code",
   "execution_count": 187,
   "id": "49abd668-57d5-4563-bd29-9582f2bc8dc4",
   "metadata": {},
   "outputs": [
    {
     "data": {
      "text/plain": [
       "(1670, 3)"
      ]
     },
     "execution_count": 187,
     "metadata": {},
     "output_type": "execute_result"
    }
   ],
   "source": [
    "df.shape"
   ]
  },
  {
   "cell_type": "code",
   "execution_count": 189,
   "id": "87617c00-7b29-4a54-8745-83e75cc8f9b2",
   "metadata": {},
   "outputs": [
    {
     "data": {
      "text/plain": [
       "0"
      ]
     },
     "execution_count": 189,
     "metadata": {},
     "output_type": "execute_result"
    }
   ],
   "source": [
    "df.duplicated().sum()"
   ]
  },
  {
   "cell_type": "code",
   "execution_count": 191,
   "id": "4ce353bc-bc15-4501-9824-2102384c9244",
   "metadata": {},
   "outputs": [
    {
     "data": {
      "text/html": [
       "<div>\n",
       "<style scoped>\n",
       "    .dataframe tbody tr th:only-of-type {\n",
       "        vertical-align: middle;\n",
       "    }\n",
       "\n",
       "    .dataframe tbody tr th {\n",
       "        vertical-align: top;\n",
       "    }\n",
       "\n",
       "    .dataframe thead th {\n",
       "        text-align: right;\n",
       "    }\n",
       "</style>\n",
       "<table border=\"1\" class=\"dataframe\">\n",
       "  <thead>\n",
       "    <tr style=\"text-align: right;\">\n",
       "      <th></th>\n",
       "      <th>Unnamed: 0</th>\n",
       "      <th>Complaint Text</th>\n",
       "      <th>Category</th>\n",
       "    </tr>\n",
       "  </thead>\n",
       "  <tbody>\n",
       "    <tr>\n",
       "      <th>0</th>\n",
       "      <td>0</td>\n",
       "      <td>Double payment processed for one membership on...</td>\n",
       "      <td>Payment Issue</td>\n",
       "    </tr>\n",
       "    <tr>\n",
       "      <th>1</th>\n",
       "      <td>1</td>\n",
       "      <td>Double payment processed for one enrollment on...</td>\n",
       "      <td>Payment Issue</td>\n",
       "    </tr>\n",
       "    <tr>\n",
       "      <th>2</th>\n",
       "      <td>2</td>\n",
       "      <td>Double payment processed for one course access...</td>\n",
       "      <td>Payment Issue</td>\n",
       "    </tr>\n",
       "    <tr>\n",
       "      <th>3</th>\n",
       "      <td>3</td>\n",
       "      <td>Double payment processed for one enrollment on...</td>\n",
       "      <td>Payment Issue</td>\n",
       "    </tr>\n",
       "    <tr>\n",
       "      <th>4</th>\n",
       "      <td>4</td>\n",
       "      <td>Double payment processed for one membership on...</td>\n",
       "      <td>Payment Issue</td>\n",
       "    </tr>\n",
       "  </tbody>\n",
       "</table>\n",
       "</div>"
      ],
      "text/plain": [
       "   Unnamed: 0                                     Complaint Text  \\\n",
       "0           0  Double payment processed for one membership on...   \n",
       "1           1  Double payment processed for one enrollment on...   \n",
       "2           2  Double payment processed for one course access...   \n",
       "3           3  Double payment processed for one enrollment on...   \n",
       "4           4  Double payment processed for one membership on...   \n",
       "\n",
       "        Category  \n",
       "0  Payment Issue  \n",
       "1  Payment Issue  \n",
       "2  Payment Issue  \n",
       "3  Payment Issue  \n",
       "4  Payment Issue  "
      ]
     },
     "execution_count": 191,
     "metadata": {},
     "output_type": "execute_result"
    }
   ],
   "source": [
    "df.head()"
   ]
  },
  {
   "cell_type": "code",
   "execution_count": 193,
   "id": "b1d6adc1-ff69-4273-b934-08dd2871097f",
   "metadata": {},
   "outputs": [
    {
     "data": {
      "text/plain": [
       "1572"
      ]
     },
     "execution_count": 193,
     "metadata": {},
     "output_type": "execute_result"
    }
   ],
   "source": [
    "df[\"Complaint Text\"].nunique()"
   ]
  },
  {
   "cell_type": "code",
   "execution_count": 195,
   "id": "24e6151c-09c7-4534-8227-aac39e528996",
   "metadata": {},
   "outputs": [
    {
     "name": "stdout",
     "output_type": "stream",
     "text": [
      "<class 'pandas.core.frame.DataFrame'>\n",
      "RangeIndex: 1670 entries, 0 to 1669\n",
      "Data columns (total 3 columns):\n",
      " #   Column          Non-Null Count  Dtype \n",
      "---  ------          --------------  ----- \n",
      " 0   Unnamed: 0      1670 non-null   int64 \n",
      " 1   Complaint Text  1670 non-null   object\n",
      " 2   Category        1670 non-null   object\n",
      "dtypes: int64(1), object(2)\n",
      "memory usage: 39.3+ KB\n"
     ]
    }
   ],
   "source": [
    "df.info()"
   ]
  },
  {
   "cell_type": "code",
   "execution_count": 197,
   "id": "98ff8376-c195-449e-89d0-1d1d51a6d946",
   "metadata": {},
   "outputs": [
    {
     "data": {
      "text/plain": [
       "Category\n",
       "Customer Support Issue           220\n",
       "Payment Issue                    210\n",
       "Technical Glitch                 210\n",
       "Refund Issue                     210\n",
       "Course Access Issue              170\n",
       "Certificate Issue                170\n",
       "Instructor Issue                 160\n",
       "Misleading Course Description    160\n",
       "Content Quality Issue            160\n",
       "Name: count, dtype: int64"
      ]
     },
     "execution_count": 197,
     "metadata": {},
     "output_type": "execute_result"
    }
   ],
   "source": [
    "df[\"Category\"].value_counts()"
   ]
  },
  {
   "cell_type": "code",
   "execution_count": 199,
   "id": "dd623e7e-7ead-479e-a6a1-15dc68c89780",
   "metadata": {},
   "outputs": [
    {
     "data": {
      "text/plain": [
       "Unnamed: 0        0\n",
       "Complaint Text    0\n",
       "Category          0\n",
       "dtype: int64"
      ]
     },
     "execution_count": 199,
     "metadata": {},
     "output_type": "execute_result"
    }
   ],
   "source": [
    "df.isna().sum()"
   ]
  },
  {
   "cell_type": "code",
   "execution_count": 201,
   "id": "989768aa-d822-4102-9423-e39cc5372ef4",
   "metadata": {},
   "outputs": [],
   "source": [
    "length_of_complaints= df['Complaint Text'].apply(lambda x: len(str(x).split()))"
   ]
  },
  {
   "cell_type": "code",
   "execution_count": 203,
   "id": "6dc48739-16a5-426f-a71d-397bea2f9887",
   "metadata": {},
   "outputs": [
    {
     "data": {
      "text/plain": [
       "0        8\n",
       "1        8\n",
       "2        9\n",
       "3        8\n",
       "4        8\n",
       "        ..\n",
       "1665    11\n",
       "1666     8\n",
       "1667     6\n",
       "1668     7\n",
       "1669     9\n",
       "Name: Complaint Text, Length: 1670, dtype: int64"
      ]
     },
     "execution_count": 203,
     "metadata": {},
     "output_type": "execute_result"
    }
   ],
   "source": [
    "length_of_complaints"
   ]
  },
  {
   "cell_type": "code",
   "execution_count": 205,
   "id": "0cd77625-5be7-4e11-9d88-99a58f446d2e",
   "metadata": {},
   "outputs": [
    {
     "data": {
      "text/plain": [
       "pandas.core.series.Series"
      ]
     },
     "execution_count": 205,
     "metadata": {},
     "output_type": "execute_result"
    }
   ],
   "source": [
    "type(length_of_complaints)"
   ]
  },
  {
   "cell_type": "code",
   "execution_count": 207,
   "id": "62019c7d-9d6e-4655-a695-32b3657426bf",
   "metadata": {},
   "outputs": [
    {
     "name": "stdout",
     "output_type": "stream",
     "text": [
      "Max length: 20\n",
      "Min length: 4\n",
      "Average length: 11.497005988023952\n"
     ]
    }
   ],
   "source": [
    "print(\"Max length:\", length_of_complaints.max())\n",
    "print(\"Min length:\", length_of_complaints.min())\n",
    "print(\"Average length:\", length_of_complaints.mean())"
   ]
  },
  {
   "cell_type": "code",
   "execution_count": 209,
   "id": "731a2bab-a899-4a93-a02c-89ac64608cae",
   "metadata": {},
   "outputs": [
    {
     "data": {
      "image/png": "[encoded data removed]",
      "text/plain": [
       "<Figure size 1000x500 with 1 Axes>"
      ]
     },
     "metadata": {},
     "output_type": "display_data"
    }
   ],
   "source": [
    "# histogram of complaint lengths\n",
    "plt.figure(figsize=(10, 5))\n",
    "sns.histplot(length_of_complaints, bins=50, kde=True, color='teal')\n",
    "plt.title(\"Distribution of Complaint Text Lengths\")\n",
    "plt.xlabel(\"Number of Words\")\n",
    "plt.ylabel(\"Number of Complaints\")\n",
    "plt.grid(True)\n",
    "plt.tight_layout()\n",
    "plt.show()"
   ]
  },
  {
   "cell_type": "markdown",
   "id": "aefe2434-9e3e-4a4f-a059-33993b918c3d",
   "metadata": {},
   "source": [
    "<h3>text cleaning</h3>"
   ]
  },
  {
   "cell_type": "code",
   "execution_count": 31,
   "id": "5a364380-ed2b-48cb-9090-4aa677746963",
   "metadata": {},
   "outputs": [
    {
     "name": "stderr",
     "output_type": "stream",
     "text": [
      "[nltk_data] Downloading package stopwords to\n",
      "[nltk_data]     /Users/ziyaurrahamanshaik/nltk_data...\n",
      "[nltk_data]   Package stopwords is already up-to-date!\n",
      "[nltk_data] Downloading package wordnet to\n",
      "[nltk_data]     /Users/ziyaurrahamanshaik/nltk_data...\n",
      "[nltk_data]   Package wordnet is already up-to-date!\n",
      "[nltk_data] Downloading package omw-1.4 to\n",
      "[nltk_data]     /Users/ziyaurrahamanshaik/nltk_data...\n",
      "[nltk_data]   Package omw-1.4 is already up-to-date!\n"
     ]
    },
    {
     "data": {
      "text/plain": [
       "True"
      ]
     },
     "execution_count": 31,
     "metadata": {},
     "output_type": "execute_result"
    }
   ],
   "source": [
    "nltk.download('stopwords')\n",
    "nltk.download('wordnet')\n",
    "nltk.download('omw-1.4')"
   ]
  },
  {
   "cell_type": "code",
   "execution_count": 211,
   "id": "74f68122-222e-476d-9c65-3cc55ac24a6b",
   "metadata": {},
   "outputs": [],
   "source": [
    "stop_words = set(stopwords.words('english'))\n",
    "lemmatizer = WordNetLemmatizer()\n"
   ]
  },
  {
   "cell_type": "code",
   "execution_count": 213,
   "id": "27523791-2f9a-4fa0-a978-77ac2f4abf3b",
   "metadata": {},
   "outputs": [
    {
     "data": {
      "text/plain": [
       "198"
      ]
     },
     "execution_count": 213,
     "metadata": {},
     "output_type": "execute_result"
    }
   ],
   "source": [
    "len(stop_words)"
   ]
  },
  {
   "cell_type": "code",
   "execution_count": 215,
   "id": "c40a7799-8735-4fb0-8b9d-4b6d4ce4c03f",
   "metadata": {},
   "outputs": [],
   "source": [
    "def clean_text(text):\n",
    "    # convert  into Lowercase\n",
    "    text = text.lower()\n",
    "     # Remove punctuation and digits\n",
    "    text = re.sub(r'[^a-z\\s]', '', text)\n",
    "    # Tokenize\n",
    "    words = text.split()\n",
    "    # Removing stopwords and lemmatize\n",
    "    cleaned_words = [\n",
    "        lemmatizer.lemmatize(word)\n",
    "        for word in words if word not in stop_words\n",
    "    ]\n",
    "    \n",
    "    return ' '.join(cleaned_words)"
   ]
  },
  {
   "cell_type": "code",
   "execution_count": 217,
   "id": "ea588a06-ea11-47e6-a656-9ab701c111ba",
   "metadata": {},
   "outputs": [],
   "source": [
    "df['Cleaned Text'] = df['Complaint Text'].apply(clean_text)"
   ]
  },
  {
   "cell_type": "code",
   "execution_count": 219,
   "id": "a3f4f7fe-8df7-43a3-bb1c-ed055b3c48dd",
   "metadata": {},
   "outputs": [
    {
     "data": {
      "text/html": [
       "<div>\n",
       "<style scoped>\n",
       "    .dataframe tbody tr th:only-of-type {\n",
       "        vertical-align: middle;\n",
       "    }\n",
       "\n",
       "    .dataframe tbody tr th {\n",
       "        vertical-align: top;\n",
       "    }\n",
       "\n",
       "    .dataframe thead th {\n",
       "        text-align: right;\n",
       "    }\n",
       "</style>\n",
       "<table border=\"1\" class=\"dataframe\">\n",
       "  <thead>\n",
       "    <tr style=\"text-align: right;\">\n",
       "      <th></th>\n",
       "      <th>Unnamed: 0</th>\n",
       "      <th>Complaint Text</th>\n",
       "      <th>Category</th>\n",
       "      <th>Cleaned Text</th>\n",
       "    </tr>\n",
       "  </thead>\n",
       "  <tbody>\n",
       "    <tr>\n",
       "      <th>0</th>\n",
       "      <td>0</td>\n",
       "      <td>Double payment processed for one membership on...</td>\n",
       "      <td>Payment Issue</td>\n",
       "      <td>double payment processed one membership codeca...</td>\n",
       "    </tr>\n",
       "    <tr>\n",
       "      <th>1</th>\n",
       "      <td>1</td>\n",
       "      <td>Double payment processed for one enrollment on...</td>\n",
       "      <td>Payment Issue</td>\n",
       "      <td>double payment processed one enrollment codeca...</td>\n",
       "    </tr>\n",
       "    <tr>\n",
       "      <th>2</th>\n",
       "      <td>2</td>\n",
       "      <td>Double payment processed for one course access...</td>\n",
       "      <td>Payment Issue</td>\n",
       "      <td>double payment processed one course access cod...</td>\n",
       "    </tr>\n",
       "    <tr>\n",
       "      <th>3</th>\n",
       "      <td>3</td>\n",
       "      <td>Double payment processed for one enrollment on...</td>\n",
       "      <td>Payment Issue</td>\n",
       "      <td>double payment processed one enrollment codeca...</td>\n",
       "    </tr>\n",
       "    <tr>\n",
       "      <th>4</th>\n",
       "      <td>4</td>\n",
       "      <td>Double payment processed for one membership on...</td>\n",
       "      <td>Payment Issue</td>\n",
       "      <td>double payment processed one membership codeca...</td>\n",
       "    </tr>\n",
       "  </tbody>\n",
       "</table>\n",
       "</div>"
      ],
      "text/plain": [
       "   Unnamed: 0                                     Complaint Text  \\\n",
       "0           0  Double payment processed for one membership on...   \n",
       "1           1  Double payment processed for one enrollment on...   \n",
       "2           2  Double payment processed for one course access...   \n",
       "3           3  Double payment processed for one enrollment on...   \n",
       "4           4  Double payment processed for one membership on...   \n",
       "\n",
       "        Category                                       Cleaned Text  \n",
       "0  Payment Issue  double payment processed one membership codeca...  \n",
       "1  Payment Issue  double payment processed one enrollment codeca...  \n",
       "2  Payment Issue  double payment processed one course access cod...  \n",
       "3  Payment Issue  double payment processed one enrollment codeca...  \n",
       "4  Payment Issue  double payment processed one membership codeca...  "
      ]
     },
     "execution_count": 219,
     "metadata": {},
     "output_type": "execute_result"
    }
   ],
   "source": [
    "df.head()"
   ]
  },
  {
   "cell_type": "markdown",
   "id": "5a1ea8f9-2325-4ed5-b524-f31820ab7b25",
   "metadata": {},
   "source": [
    "<h3>Text Vectorization</h3>"
   ]
  },
  {
   "cell_type": "code",
   "execution_count": 221,
   "id": "f76b8dd0-44fe-4df3-8e2e-41711a328867",
   "metadata": {},
   "outputs": [],
   "source": [
    "# # Loading GloVe\n",
    "# embedding_index = {}\n",
    "# with open('glove.6B.100d.txt', encoding='utf8') as f:\n",
    "#     for line in f:\n",
    "#         values = line.split()\n",
    "#         word = values[0]\n",
    "#         vector = np.asarray(values[1:], dtype='float32')\n",
    "#         embedding_index[word] = vector\n",
    "# print(f\"Loaded {len(embedding_index)} word vectors from GloVe.\")"
   ]
  },
  {
   "cell_type": "markdown",
   "id": "e3106877-04c6-4d00-bca2-d09d742d2bd0",
   "metadata": {},
   "source": [
    "<h4>Saving embedding_index to a file</h4>"
   ]
  },
  {
   "cell_type": "code",
   "execution_count": 50,
   "id": "2e0af699-0025-4c45-8e22-130f36e96cbc",
   "metadata": {},
   "outputs": [
    {
     "name": "stdout",
     "output_type": "stream",
     "text": [
      "Embedding index saved successfully!\n"
     ]
    }
   ],
   "source": [
    "# Saving embedding_index to a file\n",
    "# with open('glove_embedding_index.pkl', 'wb') as file:\n",
    "#     pickle.dump(embedding_index, file)\n",
    "\n",
    "# print(\"Embedding index saved successfully!\")"
   ]
  },
  {
   "cell_type": "code",
   "execution_count": 224,
   "id": "c0f11b7c-6607-4c03-8cd8-ec0391c85b44",
   "metadata": {},
   "outputs": [
    {
     "name": "stdout",
     "output_type": "stream",
     "text": [
      "Loaded 400000 word vectors from saved file.\n"
     ]
    }
   ],
   "source": [
    "# Load embedding_index from the file( to reduce time)\n",
    "with open('glove_embedding_index.pkl', 'rb') as file:\n",
    "    embedding_index = pickle.load(file)\n",
    "\n",
    "print(f\"Loaded {len(embedding_index)} word vectors from saved file.\")"
   ]
  },
  {
   "cell_type": "code",
   "execution_count": 226,
   "id": "e50d2bc5-440e-40ba-970b-ea1274830c3f",
   "metadata": {},
   "outputs": [
    {
     "data": {
      "text/plain": [
       "array([ 0.27442  , -0.20869  ,  0.48401  , -0.52658  , -0.28813  ,\n",
       "        0.2722   , -0.20021  ,  0.82182  ,  0.38269  ,  0.46013  ,\n",
       "        0.23799  ,  0.96327  , -0.39575  , -0.055522 ,  0.28342  ,\n",
       "       -0.75253  , -0.024518 ,  0.57289  ,  0.47708  ,  0.35955  ,\n",
       "       -0.092931 ,  0.44223  , -0.57936  ,  0.11896  , -0.43158  ,\n",
       "       -0.24031  , -0.091779 , -0.2491   , -0.060945 , -1.4849   ,\n",
       "        0.58076  ,  0.80768  , -0.23065  , -0.0089164, -0.089394 ,\n",
       "        0.18525  ,  0.12685  , -0.3145   , -0.1884   , -0.90968  ,\n",
       "        0.60932  , -0.45767  , -0.071519 , -0.44782  , -0.089939 ,\n",
       "       -0.52734  , -0.27929  , -0.80172  ,  0.48911  , -0.44459  ,\n",
       "        0.903    ,  0.18044  ,  0.37231  , -0.42455  , -0.36753  ,\n",
       "        0.24048  ,  0.61467  , -0.72114  ,  1.9183   , -0.28063  ,\n",
       "        0.54857  , -0.40469  , -0.4479   ,  0.39296  ,  0.68427  ,\n",
       "       -0.34506  , -0.36053  ,  0.015283 ,  0.17624  , -0.82384  ,\n",
       "       -0.49856  ,  0.068219 , -0.16911  ,  0.038137 ,  0.19744  ,\n",
       "        0.9619   , -0.15191  , -0.36533  , -0.67367  , -0.080256 ,\n",
       "        0.59062  , -0.19939  ,  0.24387  , -0.55623  , -0.21771  ,\n",
       "       -0.37019  ,  0.29767  , -0.28217  , -0.75958  , -0.1962   ,\n",
       "       -0.69307  ,  0.17664  ,  0.044035 , -1.2133   ,  0.053966 ,\n",
       "       -0.085151 ,  1.054    ,  0.88009  ,  0.043607 , -0.46868  ],\n",
       "      dtype=float32)"
      ]
     },
     "execution_count": 226,
     "metadata": {},
     "output_type": "execute_result"
    }
   ],
   "source": [
    "embedding_index[\"refund\"]"
   ]
  },
  {
   "cell_type": "code",
   "execution_count": 228,
   "id": "71658b26-4612-4bb3-bd9e-93f780457656",
   "metadata": {},
   "outputs": [],
   "source": [
    "\n",
    "# Tokenize\n",
    "tokenizer = Tokenizer(oov_token=\"<OOV>\")\n",
    "tokenizer.fit_on_texts(df['Cleaned Text'])\n",
    "word_index = tokenizer.word_index\n",
    "vocab_size = len(word_index) + 1\n",
    "\n",
    "# Convert text to padded sequences\n",
    "sequences = tokenizer.texts_to_sequences(df['Cleaned Text'])\n",
    "padded_sequences = pad_sequences(sequences, maxlen=30, padding='post')"
   ]
  },
  {
   "cell_type": "code",
   "execution_count": 230,
   "id": "4185c673-ffc7-4f83-ba65-e8896ebcb527",
   "metadata": {},
   "outputs": [
    {
     "data": {
      "text/plain": [
       "1470"
      ]
     },
     "execution_count": 230,
     "metadata": {},
     "output_type": "execute_result"
    }
   ],
   "source": [
    "len(word_index)"
   ]
  },
  {
   "cell_type": "code",
   "execution_count": 232,
   "id": "840143ce-777a-4a52-a895-40cafc690a64",
   "metadata": {},
   "outputs": [
    {
     "data": {
      "text/plain": [
       "[[169, 7, 37, 57, 266, 2],\n",
       " [169, 7, 37, 57, 267, 2],\n",
       " [169, 7, 37, 57, 3, 11, 2],\n",
       " [169, 7, 37, 57, 267, 2],\n",
       " [169, 7, 37, 57, 266, 2]]"
      ]
     },
     "execution_count": 232,
     "metadata": {},
     "output_type": "execute_result"
    }
   ],
   "source": [
    "sequences[:5]"
   ]
  },
  {
   "cell_type": "code",
   "execution_count": 234,
   "id": "dcaada1e-fd4f-4a45-a38d-98c6badb098f",
   "metadata": {},
   "outputs": [
    {
     "data": {
      "text/plain": [
       "array([169,   7,  37,  57, 267,   2,   0,   0,   0,   0,   0,   0,   0,\n",
       "         0,   0,   0,   0,   0,   0,   0,   0,   0,   0,   0,   0,   0,\n",
       "         0,   0,   0,   0], dtype=int32)"
      ]
     },
     "execution_count": 234,
     "metadata": {},
     "output_type": "execute_result"
    }
   ],
   "source": [
    "padded_sequences[3]"
   ]
  },
  {
   "cell_type": "code",
   "execution_count": 236,
   "id": "b4874582-ea08-48ff-9944-103cf5bd317e",
   "metadata": {},
   "outputs": [],
   "source": [
    "embedding_dim = 100\n",
    "embedding_matrix = np.zeros((vocab_size, embedding_dim))\n",
    "\n",
    "for word, i in word_index.items():\n",
    "    embedding_vector = embedding_index.get(word)\n",
    "    if embedding_vector is not None:\n",
    "        embedding_matrix[i] = embedding_vector"
   ]
  },
  {
   "cell_type": "code",
   "execution_count": 238,
   "id": "5c6ebb57-affc-4da5-97e8-7156679f0d7e",
   "metadata": {},
   "outputs": [
    {
     "data": {
      "text/plain": [
       "1471"
      ]
     },
     "execution_count": 238,
     "metadata": {},
     "output_type": "execute_result"
    }
   ],
   "source": [
    "len(embedding_matrix)"
   ]
  },
  {
   "cell_type": "code",
   "execution_count": 242,
   "id": "57924bc1-d7fd-4f03-a7d9-f845615e5329",
   "metadata": {},
   "outputs": [
    {
     "data": {
      "text/plain": [
       "array([-0.56888998,  1.07410002, -0.47046   , -0.0033372 ,  0.38510001,\n",
       "       -0.14174999, -0.57630002, -0.30484   , -0.095918  ,  0.17786001,\n",
       "       -0.24177   , -0.49157   , -0.11069   , -0.50344998,  0.091845  ,\n",
       "       -0.40237999,  0.044992  , -0.44402999, -0.40237999,  0.56918001,\n",
       "       -0.11842   , -0.29087001,  0.40975001, -0.11389   , -0.29725   ,\n",
       "       -0.086441  ,  0.014207  , -0.26745999,  0.59259999,  0.066809  ,\n",
       "        0.37691   ,  0.71682   , -0.028315  ,  0.53827   ,  0.29448   ,\n",
       "        0.45475999,  0.56120002,  0.26344001, -0.27476999,  0.2525    ,\n",
       "       -0.64091998, -0.3026    ,  0.86114001, -0.091432  ,  0.08479   ,\n",
       "       -0.73649001,  0.118     , -0.26196   , -0.30272001, -0.81630999,\n",
       "       -0.31151   ,  0.59153998,  0.12937   ,  1.13300002,  0.26651001,\n",
       "       -2.31439996,  0.79084003, -1.25989997,  2.03740001,  0.25549999,\n",
       "        0.058432  , -0.43257001,  0.054661  ,  0.62744999,  0.58951998,\n",
       "        0.38389999, -0.34004   ,  0.39991999,  0.41631001, -0.020312  ,\n",
       "        0.65421999, -0.17546   , -0.58449   , -1.09519994,  0.12616   ,\n",
       "        0.40292001, -0.32494   ,  0.60966998, -1.02839994, -0.13108   ,\n",
       "        0.40814   , -0.0091753 ,  0.034471  , -0.035219  , -1.50699997,\n",
       "        0.044173  ,  0.52328002,  0.53536999, -0.21608   , -0.62004   ,\n",
       "       -0.1398    , -0.37402001, -0.13175   ,  0.73579001, -0.35415   ,\n",
       "       -0.23068   , -0.21276   , -0.11696   ,  0.77543002,  0.65421999])"
      ]
     },
     "execution_count": 242,
     "metadata": {},
     "output_type": "execute_result"
    }
   ],
   "source": [
    "embedding_matrix[5] # embedding_matrix maps a word index to its corresponding vector"
   ]
  },
  {
   "cell_type": "code",
   "execution_count": 244,
   "id": "cd1c323c-8b9f-4e3d-a5e8-670eaeb82d5e",
   "metadata": {},
   "outputs": [
    {
     "data": {
      "text/plain": [
       "array([ True,  True,  True,  True,  True,  True,  True,  True,  True,\n",
       "        True,  True,  True,  True,  True,  True,  True,  True,  True,\n",
       "        True,  True,  True,  True,  True,  True,  True,  True,  True,\n",
       "        True,  True,  True,  True,  True,  True,  True,  True,  True,\n",
       "        True,  True,  True,  True,  True,  True,  True,  True,  True,\n",
       "        True,  True,  True,  True,  True,  True,  True,  True,  True,\n",
       "        True,  True,  True,  True,  True,  True,  True,  True,  True,\n",
       "        True,  True,  True,  True,  True,  True,  True,  True,  True,\n",
       "        True,  True,  True,  True,  True,  True,  True,  True,  True,\n",
       "        True,  True,  True,  True,  True,  True,  True,  True,  True,\n",
       "        True,  True,  True,  True,  True,  True,  True,  True,  True,\n",
       "        True])"
      ]
     },
     "execution_count": 244,
     "metadata": {},
     "output_type": "execute_result"
    }
   ],
   "source": [
    "embedding_matrix[5]==embedding_index[\"support\"]"
   ]
  },
  {
   "cell_type": "markdown",
   "id": "a113d28b-c295-4a65-8474-fa459295f952",
   "metadata": {},
   "source": [
    "<h3>baseline model</h3>"
   ]
  },
  {
   "cell_type": "code",
   "execution_count": 246,
   "id": "a9df58db-ea67-4d12-83bc-900869c4bc19",
   "metadata": {},
   "outputs": [],
   "source": [
    "from sklearn.preprocessing import LabelEncoder\n",
    "\n",
    "label_encoder = LabelEncoder()\n",
    "labels = label_encoder.fit_transform(df['Category'])\n",
    "num_classes = len(label_encoder.classes_)\n",
    "class_names = label_encoder.classes_"
   ]
  },
  {
   "cell_type": "code",
   "execution_count": 248,
   "id": "ce7a36d1-53f6-4def-aaa0-914f6d779c2b",
   "metadata": {},
   "outputs": [
    {
     "name": "stderr",
     "output_type": "stream",
     "text": [
      "/opt/anaconda3/lib/python3.12/site-packages/keras/src/layers/core/embedding.py:90: UserWarning: Argument `input_length` is deprecated. Just remove it.\n",
      "  warnings.warn(\n"
     ]
    },
    {
     "data": {
      "text/html": [
       "<pre style=\"white-space:pre;overflow-x:auto;line-height:normal;font-family:Menlo,'DejaVu Sans Mono',consolas,'Courier New',monospace\"><span style=\"font-weight: bold\">Model: \"sequential_4\"</span>\n",
       "</pre>\n"
      ],
      "text/plain": [
       "\u001b[1mModel: \"sequential_4\"\u001b[0m\n"
      ]
     },
     "metadata": {},
     "output_type": "display_data"
    },
    {
     "data": {
      "text/html": [
       "<pre style=\"white-space:pre;overflow-x:auto;line-height:normal;font-family:Menlo,'DejaVu Sans Mono',consolas,'Courier New',monospace\">┏━━━━━━━━━━━━━━━━━━━━━━━━━━━━━━━━━┳━━━━━━━━━━━━━━━━━━━━━━━━┳━━━━━━━━━━━━━━━┓\n",
       "┃<span style=\"font-weight: bold\"> Layer (type)                    </span>┃<span style=\"font-weight: bold\"> Output Shape           </span>┃<span style=\"font-weight: bold\">       Param # </span>┃\n",
       "┡━━━━━━━━━━━━━━━━━━━━━━━━━━━━━━━━━╇━━━━━━━━━━━━━━━━━━━━━━━━╇━━━━━━━━━━━━━━━┩\n",
       "│ embedding_7 (<span style=\"color: #0087ff; text-decoration-color: #0087ff\">Embedding</span>)         │ ?                      │       <span style=\"color: #00af00; text-decoration-color: #00af00\">147,100</span> │\n",
       "├─────────────────────────────────┼────────────────────────┼───────────────┤\n",
       "│ global_average_pooling1d_1      │ ?                      │             <span style=\"color: #00af00; text-decoration-color: #00af00\">0</span> │\n",
       "│ (<span style=\"color: #0087ff; text-decoration-color: #0087ff\">GlobalAveragePooling1D</span>)        │                        │               │\n",
       "├─────────────────────────────────┼────────────────────────┼───────────────┤\n",
       "│ dense_10 (<span style=\"color: #0087ff; text-decoration-color: #0087ff\">Dense</span>)                │ ?                      │   <span style=\"color: #00af00; text-decoration-color: #00af00\">0</span> (unbuilt) │\n",
       "├─────────────────────────────────┼────────────────────────┼───────────────┤\n",
       "│ dropout_4 (<span style=\"color: #0087ff; text-decoration-color: #0087ff\">Dropout</span>)             │ ?                      │             <span style=\"color: #00af00; text-decoration-color: #00af00\">0</span> │\n",
       "├─────────────────────────────────┼────────────────────────┼───────────────┤\n",
       "│ dense_11 (<span style=\"color: #0087ff; text-decoration-color: #0087ff\">Dense</span>)                │ ?                      │   <span style=\"color: #00af00; text-decoration-color: #00af00\">0</span> (unbuilt) │\n",
       "└─────────────────────────────────┴────────────────────────┴───────────────┘\n",
       "</pre>\n"
      ],
      "text/plain": [
       "┏━━━━━━━━━━━━━━━━━━━━━━━━━━━━━━━━━┳━━━━━━━━━━━━━━━━━━━━━━━━┳━━━━━━━━━━━━━━━┓\n",
       "┃\u001b[1m \u001b[0m\u001b[1mLayer (type)                   \u001b[0m\u001b[1m \u001b[0m┃\u001b[1m \u001b[0m\u001b[1mOutput Shape          \u001b[0m\u001b[1m \u001b[0m┃\u001b[1m \u001b[0m\u001b[1m      Param #\u001b[0m\u001b[1m \u001b[0m┃\n",
       "┡━━━━━━━━━━━━━━━━━━━━━━━━━━━━━━━━━╇━━━━━━━━━━━━━━━━━━━━━━━━╇━━━━━━━━━━━━━━━┩\n",
       "│ embedding_7 (\u001b[38;5;33mEmbedding\u001b[0m)         │ ?                      │       \u001b[38;5;34m147,100\u001b[0m │\n",
       "├─────────────────────────────────┼────────────────────────┼───────────────┤\n",
       "│ global_average_pooling1d_1      │ ?                      │             \u001b[38;5;34m0\u001b[0m │\n",
       "│ (\u001b[38;5;33mGlobalAveragePooling1D\u001b[0m)        │                        │               │\n",
       "├─────────────────────────────────┼────────────────────────┼───────────────┤\n",
       "│ dense_10 (\u001b[38;5;33mDense\u001b[0m)                │ ?                      │   \u001b[38;5;34m0\u001b[0m (unbuilt) │\n",
       "├─────────────────────────────────┼────────────────────────┼───────────────┤\n",
       "│ dropout_4 (\u001b[38;5;33mDropout\u001b[0m)             │ ?                      │             \u001b[38;5;34m0\u001b[0m │\n",
       "├─────────────────────────────────┼────────────────────────┼───────────────┤\n",
       "│ dense_11 (\u001b[38;5;33mDense\u001b[0m)                │ ?                      │   \u001b[38;5;34m0\u001b[0m (unbuilt) │\n",
       "└─────────────────────────────────┴────────────────────────┴───────────────┘\n"
      ]
     },
     "metadata": {},
     "output_type": "display_data"
    },
    {
     "data": {
      "text/html": [
       "<pre style=\"white-space:pre;overflow-x:auto;line-height:normal;font-family:Menlo,'DejaVu Sans Mono',consolas,'Courier New',monospace\"><span style=\"font-weight: bold\"> Total params: </span><span style=\"color: #00af00; text-decoration-color: #00af00\">147,100</span> (574.61 KB)\n",
       "</pre>\n"
      ],
      "text/plain": [
       "\u001b[1m Total params: \u001b[0m\u001b[38;5;34m147,100\u001b[0m (574.61 KB)\n"
      ]
     },
     "metadata": {},
     "output_type": "display_data"
    },
    {
     "data": {
      "text/html": [
       "<pre style=\"white-space:pre;overflow-x:auto;line-height:normal;font-family:Menlo,'DejaVu Sans Mono',consolas,'Courier New',monospace\"><span style=\"font-weight: bold\"> Trainable params: </span><span style=\"color: #00af00; text-decoration-color: #00af00\">0</span> (0.00 B)\n",
       "</pre>\n"
      ],
      "text/plain": [
       "\u001b[1m Trainable params: \u001b[0m\u001b[38;5;34m0\u001b[0m (0.00 B)\n"
      ]
     },
     "metadata": {},
     "output_type": "display_data"
    },
    {
     "data": {
      "text/html": [
       "<pre style=\"white-space:pre;overflow-x:auto;line-height:normal;font-family:Menlo,'DejaVu Sans Mono',consolas,'Courier New',monospace\"><span style=\"font-weight: bold\"> Non-trainable params: </span><span style=\"color: #00af00; text-decoration-color: #00af00\">147,100</span> (574.61 KB)\n",
       "</pre>\n"
      ],
      "text/plain": [
       "\u001b[1m Non-trainable params: \u001b[0m\u001b[38;5;34m147,100\u001b[0m (574.61 KB)\n"
      ]
     },
     "metadata": {},
     "output_type": "display_data"
    }
   ],
   "source": [
    "\n",
    "model = Sequential([\n",
    "    Embedding(input_dim=vocab_size,\n",
    "              output_dim=embedding_dim,\n",
    "              weights=[embedding_matrix],\n",
    "              input_length=30,\n",
    "              trainable=False),  # Freeze GloVe weights\n",
    "    GlobalAveragePooling1D(),\n",
    "    Dense(64, activation='relu'),\n",
    "    Dropout(0.5),\n",
    "    Dense(num_classes, activation='softmax')\n",
    "])\n",
    "\n",
    "model.compile(loss='sparse_categorical_crossentropy', optimizer='adam', metrics=['accuracy'])\n",
    "model.summary()"
   ]
  },
  {
   "cell_type": "code",
   "execution_count": 250,
   "id": "66b986e1-d5ae-4d49-bc8d-fa575958eb72",
   "metadata": {},
   "outputs": [
    {
     "name": "stdout",
     "output_type": "stream",
     "text": [
      "Epoch 1/10\n",
      "\u001b[1m42/42\u001b[0m \u001b[32m━━━━━━━━━━━━━━━━━━━━\u001b[0m\u001b[37m\u001b[0m \u001b[1m0s\u001b[0m 2ms/step - accuracy: 0.1603 - loss: 2.1877 - val_accuracy: 0.3144 - val_loss: 2.1344\n",
      "Epoch 2/10\n",
      "\u001b[1m42/42\u001b[0m \u001b[32m━━━━━━━━━━━━━━━━━━━━\u001b[0m\u001b[37m\u001b[0m \u001b[1m0s\u001b[0m 772us/step - accuracy: 0.2848 - loss: 2.1147 - val_accuracy: 0.4042 - val_loss: 2.0353\n",
      "Epoch 3/10\n",
      "\u001b[1m42/42\u001b[0m \u001b[32m━━━━━━━━━━━━━━━━━━━━\u001b[0m\u001b[37m\u001b[0m \u001b[1m0s\u001b[0m 788us/step - accuracy: 0.3689 - loss: 2.0080 - val_accuracy: 0.5060 - val_loss: 1.9038\n",
      "Epoch 4/10\n",
      "\u001b[1m42/42\u001b[0m \u001b[32m━━━━━━━━━━━━━━━━━━━━\u001b[0m\u001b[37m\u001b[0m \u001b[1m0s\u001b[0m 798us/step - accuracy: 0.4438 - loss: 1.8948 - val_accuracy: 0.5928 - val_loss: 1.7567\n",
      "Epoch 5/10\n",
      "\u001b[1m42/42\u001b[0m \u001b[32m━━━━━━━━━━━━━━━━━━━━\u001b[0m\u001b[37m\u001b[0m \u001b[1m0s\u001b[0m 748us/step - accuracy: 0.4830 - loss: 1.7475 - val_accuracy: 0.6257 - val_loss: 1.6170\n",
      "Epoch 6/10\n",
      "\u001b[1m42/42\u001b[0m \u001b[32m━━━━━━━━━━━━━━━━━━━━\u001b[0m\u001b[37m\u001b[0m \u001b[1m0s\u001b[0m 823us/step - accuracy: 0.5408 - loss: 1.6053 - val_accuracy: 0.6916 - val_loss: 1.4895\n",
      "Epoch 7/10\n",
      "\u001b[1m42/42\u001b[0m \u001b[32m━━━━━━━━━━━━━━━━━━━━\u001b[0m\u001b[37m\u001b[0m \u001b[1m0s\u001b[0m 2ms/step - accuracy: 0.5881 - loss: 1.4875 - val_accuracy: 0.6976 - val_loss: 1.3724\n",
      "Epoch 8/10\n",
      "\u001b[1m42/42\u001b[0m \u001b[32m━━━━━━━━━━━━━━━━━━━━\u001b[0m\u001b[37m\u001b[0m \u001b[1m0s\u001b[0m 783us/step - accuracy: 0.5897 - loss: 1.4048 - val_accuracy: 0.7216 - val_loss: 1.2664\n",
      "Epoch 9/10\n",
      "\u001b[1m42/42\u001b[0m \u001b[32m━━━━━━━━━━━━━━━━━━━━\u001b[0m\u001b[37m\u001b[0m \u001b[1m0s\u001b[0m 774us/step - accuracy: 0.6185 - loss: 1.3146 - val_accuracy: 0.7575 - val_loss: 1.1771\n",
      "Epoch 10/10\n",
      "\u001b[1m42/42\u001b[0m \u001b[32m━━━━━━━━━━━━━━━━━━━━\u001b[0m\u001b[37m\u001b[0m \u001b[1m0s\u001b[0m 788us/step - accuracy: 0.6331 - loss: 1.2056 - val_accuracy: 0.7784 - val_loss: 1.1024\n"
     ]
    }
   ],
   "source": [
    "# spliting the data\n",
    "X_train, X_val, y_train, y_val = train_test_split(\n",
    "    padded_sequences,     \n",
    "    labels,               \n",
    "    test_size=0.2,\n",
    "    stratify=labels,      \n",
    "    random_state=42\n",
    ")\n",
    "\n",
    "history = model.fit(X_train, y_train,\n",
    "                validation_data=(X_val,y_val),\n",
    "                    epochs=10,\n",
    "                    batch_size=32)"
   ]
  },
  {
   "cell_type": "code",
   "execution_count": 252,
   "id": "1dc1564e-b5f5-4871-94db-d235e3e30c0f",
   "metadata": {},
   "outputs": [
    {
     "data": {
      "image/png": "[encoded data removed]",
      "text/plain": [
       "<Figure size 640x480 with 1 Axes>"
      ]
     },
     "metadata": {},
     "output_type": "display_data"
    },
    {
     "name": "stdout",
     "output_type": "stream",
     "text": [
      "\u001b[1m11/11\u001b[0m \u001b[32m━━━━━━━━━━━━━━━━━━━━\u001b[0m\u001b[37m\u001b[0m \u001b[1m0s\u001b[0m 2ms/step \n",
      "                               precision    recall  f1-score   support\n",
      "\n",
      "            Certificate Issue       0.92      0.97      0.94        34\n",
      "        Content Quality Issue       0.88      0.66      0.75        32\n",
      "          Course Access Issue       0.72      0.62      0.67        34\n",
      "       Customer Support Issue       0.76      0.93      0.84        44\n",
      "             Instructor Issue       0.93      0.78      0.85        32\n",
      "Misleading Course Description       0.81      0.66      0.72        32\n",
      "                Payment Issue       0.74      0.69      0.72        42\n",
      "                 Refund Issue       0.75      0.86      0.80        42\n",
      "             Technical Glitch       0.65      0.79      0.71        42\n",
      "\n",
      "                     accuracy                           0.78       334\n",
      "                    macro avg       0.79      0.77      0.78       334\n",
      "                 weighted avg       0.79      0.78      0.78       334\n",
      "\n"
     ]
    }
   ],
   "source": [
    "\n",
    "\n",
    "# Accuracy plot\n",
    "plt.plot(history.history['accuracy'], label='Train Accuracy')\n",
    "plt.plot(history.history['val_accuracy'], label='Val Accuracy')\n",
    "plt.title(\"Training & Validation Accuracy\")\n",
    "plt.legend()\n",
    "plt.show()\n",
    "\n",
    "# Classification report\n",
    "y_pred = model.predict(X_val).argmax(axis=1)\n",
    "print(classification_report(y_val, y_pred, target_names=label_encoder.classes_))"
   ]
  },
  {
   "cell_type": "code",
   "execution_count": 254,
   "id": "46c03667-47a9-4569-91bb-464f2c969919",
   "metadata": {},
   "outputs": [
    {
     "name": "stdout",
     "output_type": "stream",
     "text": [
      "Accuracy per class:\n",
      "\n",
      "Certificate Issue    → Accuracy: 0.9706 (33/34)\n",
      "Content Quality Issue → Accuracy: 0.6562 (21/32)\n",
      "Course Access Issue  → Accuracy: 0.6176 (21/34)\n",
      "Customer Support Issue → Accuracy: 0.9318 (41/44)\n",
      "Instructor Issue     → Accuracy: 0.7812 (25/32)\n",
      "Misleading Course Description → Accuracy: 0.6562 (21/32)\n",
      "Payment Issue        → Accuracy: 0.6905 (29/42)\n",
      "Refund Issue         → Accuracy: 0.8571 (36/42)\n",
      "Technical Glitch     → Accuracy: 0.7857 (33/42)\n"
     ]
    }
   ],
   "source": [
    "unique_classes = np.unique(y_val)\n",
    "\n",
    "print(\"Accuracy per class:\\n\")\n",
    "for class_id in unique_classes:\n",
    "    class_name = class_names[class_id]\n",
    "    class_mask = (y_val == class_id)\n",
    "    \n",
    "    correct = np.sum(y_val[class_mask] == y_pred[class_mask])\n",
    "    total = np.sum(class_mask)\n",
    "    acc = correct / total\n",
    "\n",
    "    print(f\"{class_name:20s} → Accuracy: {acc:.4f} ({correct}/{total})\")"
   ]
  },
  {
   "cell_type": "code",
   "execution_count": 256,
   "id": "d28d1e19-6161-46b8-95a2-694a28a7e195",
   "metadata": {},
   "outputs": [
    {
     "name": "stdout",
     "output_type": "stream",
     "text": [
      "Validation Accuracy: 0.7784\n"
     ]
    }
   ],
   "source": [
    "accuracy = accuracy_score(y_val, y_pred)\n",
    "print(f\"Validation Accuracy: {accuracy:.4f}\")"
   ]
  },
  {
   "cell_type": "code",
   "execution_count": 258,
   "id": "ef247e33-afe5-493b-8307-4ef05eaf3157",
   "metadata": {},
   "outputs": [
    {
     "name": "stdout",
     "output_type": "stream",
     "text": [
      "Precision: 0.7861610389941152\n",
      "Recall: 0.7784431137724551\n",
      "F1 Score: 0.7763823940188596\n"
     ]
    }
   ],
   "source": [
    "print(\"Precision:\", precision_score(y_val, y_pred, average='weighted'))\n",
    "print(\"Recall:\", recall_score(y_val, y_pred, average='weighted'))\n",
    "print(\"F1 Score:\", f1_score(y_val, y_pred, average='weighted'))"
   ]
  },
  {
   "cell_type": "code",
   "execution_count": 185,
   "id": "299521d8-6265-403f-90af-9dcb9eda5773",
   "metadata": {},
   "outputs": [],
   "source": [
    "# Random Complaints testing"
   ]
  },
  {
   "cell_type": "code",
   "execution_count": 260,
   "id": "7947d41b-ffa8-4fc2-9462-0ea7ac4eb56d",
   "metadata": {},
   "outputs": [],
   "source": [
    "test_complaints = [\n",
    "    \"I can't access my course after logging in, it keeps showing a blank screen.\",\n",
    "    \"I requested a refund last week and still haven't received my money back.\",\n",
    "    \"The video keeps buffering every few seconds — it’s impossible to follow the lesson.\",\n",
    "    \"The instructor just reads the slides, there's no explanation or interaction.\",\n",
    "    \"The course description promised a project but there's none included.\",\n",
    "    \"I finished the course but didn’t receive any certificate of completion.\",\n",
    "    \"Customer support hasn't replied to my emails in over 10 days!\",\n",
    "    \"There are tons of spelling mistakes and grammar issues in the content.\",\n",
    "]"
   ]
  },
  {
   "cell_type": "code",
   "execution_count": 262,
   "id": "f71b999c-e82d-41ca-aa99-6ce1dbfe702b",
   "metadata": {},
   "outputs": [
    {
     "name": "stdout",
     "output_type": "stream",
     "text": [
      "\u001b[1m1/1\u001b[0m \u001b[32m━━━━━━━━━━━━━━━━━━━━\u001b[0m\u001b[37m\u001b[0m \u001b[1m0s\u001b[0m 15ms/step\n",
      "Complaint: I can't access my course after logging in, it keeps showing a blank screen.\n",
      "Predicted Category: Technical Glitch\n",
      "\n",
      "\u001b[1m1/1\u001b[0m \u001b[32m━━━━━━━━━━━━━━━━━━━━\u001b[0m\u001b[37m\u001b[0m \u001b[1m0s\u001b[0m 11ms/step\n",
      "Complaint: I requested a refund last week and still haven't received my money back.\n",
      "Predicted Category: Refund Issue\n",
      "\n",
      "\u001b[1m1/1\u001b[0m \u001b[32m━━━━━━━━━━━━━━━━━━━━\u001b[0m\u001b[37m\u001b[0m \u001b[1m0s\u001b[0m 10ms/step\n",
      "Complaint: The video keeps buffering every few seconds — it’s impossible to follow the lesson.\n",
      "Predicted Category: Technical Glitch\n",
      "\n",
      "\u001b[1m1/1\u001b[0m \u001b[32m━━━━━━━━━━━━━━━━━━━━\u001b[0m\u001b[37m\u001b[0m \u001b[1m0s\u001b[0m 10ms/step\n",
      "Complaint: The instructor just reads the slides, there's no explanation or interaction.\n",
      "Predicted Category: Instructor Issue\n",
      "\n",
      "\u001b[1m1/1\u001b[0m \u001b[32m━━━━━━━━━━━━━━━━━━━━\u001b[0m\u001b[37m\u001b[0m \u001b[1m0s\u001b[0m 9ms/step\n",
      "Complaint: The course description promised a project but there's none included.\n",
      "Predicted Category: Misleading Course Description\n",
      "\n",
      "\u001b[1m1/1\u001b[0m \u001b[32m━━━━━━━━━━━━━━━━━━━━\u001b[0m\u001b[37m\u001b[0m \u001b[1m0s\u001b[0m 9ms/step\n",
      "Complaint: I finished the course but didn’t receive any certificate of completion.\n",
      "Predicted Category: Certificate Issue\n",
      "\n",
      "\u001b[1m1/1\u001b[0m \u001b[32m━━━━━━━━━━━━━━━━━━━━\u001b[0m\u001b[37m\u001b[0m \u001b[1m0s\u001b[0m 39ms/step\n",
      "Complaint: Customer support hasn't replied to my emails in over 10 days!\n",
      "Predicted Category: Customer Support Issue\n",
      "\n",
      "\u001b[1m1/1\u001b[0m \u001b[32m━━━━━━━━━━━━━━━━━━━━\u001b[0m\u001b[37m\u001b[0m \u001b[1m0s\u001b[0m 9ms/step\n",
      "Complaint: There are tons of spelling mistakes and grammar issues in the content.\n",
      "Predicted Category: Content Quality Issue\n",
      "\n"
     ]
    }
   ],
   "source": [
    "for complaint in test_complaints:\n",
    "    cleaned = clean_text(complaint)  \n",
    "    seq = tokenizer.texts_to_sequences([cleaned])\n",
    "    padded = pad_sequences(seq, maxlen=X_train.shape[1], padding='post')\n",
    "    y_pred = model.predict(padded)\n",
    "    pred_class = np.argmax(y_pred, axis=1)\n",
    "    predicted_label = label_encoder.inverse_transform(pred_class)[0]\n",
    "    print(f\"Complaint: {complaint}\")\n",
    "    print(f\"Predicted Category: {predicted_label}\\n\")"
   ]
  },
  {
   "cell_type": "markdown",
   "id": "4206383e-39dd-43f7-94b7-715e320b2945",
   "metadata": {},
   "source": [
    "<h3>using LSTM</h3>"
   ]
  },
  {
   "cell_type": "code",
   "execution_count": 322,
   "id": "3fca6c0e-fd2f-45e9-95b2-18c5e76a65bc",
   "metadata": {},
   "outputs": [],
   "source": [
    "model_lstm = Sequential([\n",
    "    Embedding(input_dim=vocab_size,\n",
    "              output_dim=embedding_dim,\n",
    "              weights=[embedding_matrix],\n",
    "              # input_length=20,\n",
    "              trainable=False),  # GloVe embeddings (frozen)\n",
    "\n",
    "    Bidirectional(LSTM(64, return_sequences=False)),\n",
    "    Dense(64, activation='relu'),\n",
    "    Dropout(0.5),\n",
    "    Dense(num_classes, activation='softmax')\n",
    "])"
   ]
  },
  {
   "cell_type": "code",
   "execution_count": 324,
   "id": "f1ff03a3-61ae-4c64-bc6d-8d2499aa8e29",
   "metadata": {},
   "outputs": [],
   "source": [
    "model_lstm.compile(\n",
    "    loss='sparse_categorical_crossentropy',\n",
    "    optimizer='adam',\n",
    "    metrics=['accuracy']\n",
    ")"
   ]
  },
  {
   "cell_type": "code",
   "execution_count": 326,
   "id": "1fd79290-9a06-43df-820d-cff80bf60ee4",
   "metadata": {},
   "outputs": [
    {
     "name": "stdout",
     "output_type": "stream",
     "text": [
      "Epoch 1/10\n",
      "\u001b[1m42/42\u001b[0m \u001b[32m━━━━━━━━━━━━━━━━━━━━\u001b[0m\u001b[37m\u001b[0m \u001b[1m1s\u001b[0m 9ms/step - accuracy: 0.2103 - loss: 2.1273 - val_accuracy: 0.5120 - val_loss: 1.7022\n",
      "Epoch 2/10\n",
      "\u001b[1m42/42\u001b[0m \u001b[32m━━━━━━━━━━━━━━━━━━━━\u001b[0m\u001b[37m\u001b[0m \u001b[1m0s\u001b[0m 6ms/step - accuracy: 0.4755 - loss: 1.5496 - val_accuracy: 0.6826 - val_loss: 0.9858\n",
      "Epoch 3/10\n",
      "\u001b[1m42/42\u001b[0m \u001b[32m━━━━━━━━━━━━━━━━━━━━\u001b[0m\u001b[37m\u001b[0m \u001b[1m0s\u001b[0m 9ms/step - accuracy: 0.6974 - loss: 0.9544 - val_accuracy: 0.7934 - val_loss: 0.6677\n",
      "Epoch 4/10\n",
      "\u001b[1m42/42\u001b[0m \u001b[32m━━━━━━━━━━━━━━━━━━━━\u001b[0m\u001b[37m\u001b[0m \u001b[1m0s\u001b[0m 10ms/step - accuracy: 0.7837 - loss: 0.6551 - val_accuracy: 0.8383 - val_loss: 0.5111\n",
      "Epoch 5/10\n",
      "\u001b[1m42/42\u001b[0m \u001b[32m━━━━━━━━━━━━━━━━━━━━\u001b[0m\u001b[37m\u001b[0m \u001b[1m0s\u001b[0m 9ms/step - accuracy: 0.8161 - loss: 0.5435 - val_accuracy: 0.8443 - val_loss: 0.4138\n",
      "Epoch 6/10\n",
      "\u001b[1m42/42\u001b[0m \u001b[32m━━━━━━━━━━━━━━━━━━━━\u001b[0m\u001b[37m\u001b[0m \u001b[1m0s\u001b[0m 10ms/step - accuracy: 0.8562 - loss: 0.3940 - val_accuracy: 0.8533 - val_loss: 0.3986\n",
      "Epoch 7/10\n",
      "\u001b[1m42/42\u001b[0m \u001b[32m━━━━━━━━━━━━━━━━━━━━\u001b[0m\u001b[37m\u001b[0m \u001b[1m0s\u001b[0m 9ms/step - accuracy: 0.8791 - loss: 0.3457 - val_accuracy: 0.8772 - val_loss: 0.3673\n",
      "Epoch 8/10\n",
      "\u001b[1m42/42\u001b[0m \u001b[32m━━━━━━━━━━━━━━━━━━━━\u001b[0m\u001b[37m\u001b[0m \u001b[1m0s\u001b[0m 9ms/step - accuracy: 0.9147 - loss: 0.2617 - val_accuracy: 0.8623 - val_loss: 0.3795\n",
      "Epoch 9/10\n",
      "\u001b[1m42/42\u001b[0m \u001b[32m━━━━━━━━━━━━━━━━━━━━\u001b[0m\u001b[37m\u001b[0m \u001b[1m0s\u001b[0m 10ms/step - accuracy: 0.9114 - loss: 0.2500 - val_accuracy: 0.8683 - val_loss: 0.3742\n",
      "Epoch 10/10\n",
      "\u001b[1m42/42\u001b[0m \u001b[32m━━━━━━━━━━━━━━━━━━━━\u001b[0m\u001b[37m\u001b[0m \u001b[1m0s\u001b[0m 10ms/step - accuracy: 0.9352 - loss: 0.2177 - val_accuracy: 0.8623 - val_loss: 0.3941\n"
     ]
    }
   ],
   "source": [
    "history_lstm = model_lstm.fit(\n",
    "    X_train, y_train,\n",
    "    epochs=10,\n",
    "    batch_size=32,\n",
    "    validation_data=(X_val, y_val),\n",
    "    verbose=1\n",
    ")"
   ]
  },
  {
   "cell_type": "code",
   "execution_count": 328,
   "id": "1b4165c1-1e7c-456c-b878-f2fab61733ee",
   "metadata": {},
   "outputs": [
    {
     "name": "stdout",
     "output_type": "stream",
     "text": [
      "Validation Accuracy: 0.8623\n"
     ]
    }
   ],
   "source": [
    "# Evaluate model\n",
    "val_loss, val_accuracy = model_lstm.evaluate(X_val, y_val, verbose=0)\n",
    "print(f\"Validation Accuracy: {val_accuracy:.4f}\")"
   ]
  },
  {
   "cell_type": "code",
   "execution_count": 330,
   "id": "7b8389d8-acd9-4a1e-8dc4-3b3806508eca",
   "metadata": {},
   "outputs": [
    {
     "name": "stdout",
     "output_type": "stream",
     "text": [
      "\u001b[1m11/11\u001b[0m \u001b[32m━━━━━━━━━━━━━━━━━━━━\u001b[0m\u001b[37m\u001b[0m \u001b[1m0s\u001b[0m 10ms/step\n"
     ]
    }
   ],
   "source": [
    "# Predict class probabilities\n",
    "y_pred_probs = model_lstm.predict(X_val)\n",
    "# Convert probabilities to class indices\n",
    "y_pred = np.argmax(y_pred_probs, axis=1)"
   ]
  },
  {
   "cell_type": "code",
   "execution_count": 332,
   "id": "97d43823-c3c9-4551-a021-5fb144f17b1d",
   "metadata": {},
   "outputs": [
    {
     "name": "stdout",
     "output_type": "stream",
     "text": [
      "\n",
      "Classification Report:\n",
      "\n",
      "                               precision    recall  f1-score   support\n",
      "\n",
      "            Certificate Issue       0.97      1.00      0.99        34\n",
      "        Content Quality Issue       0.88      0.66      0.75        32\n",
      "          Course Access Issue       0.65      0.76      0.70        34\n",
      "       Customer Support Issue       0.84      0.93      0.88        44\n",
      "             Instructor Issue       0.97      0.94      0.95        32\n",
      "Misleading Course Description       0.76      0.81      0.79        32\n",
      "                Payment Issue       0.93      0.95      0.94        42\n",
      "                 Refund Issue       0.93      0.90      0.92        42\n",
      "             Technical Glitch       0.86      0.76      0.81        42\n",
      "\n",
      "                     accuracy                           0.86       334\n",
      "                    macro avg       0.87      0.86      0.86       334\n",
      "                 weighted avg       0.87      0.86      0.86       334\n",
      "\n"
     ]
    }
   ],
   "source": [
    "print(\"\\nClassification Report:\\n\")\n",
    "print(classification_report(y_val, y_pred, target_names=class_names))\n"
   ]
  },
  {
   "cell_type": "code",
   "execution_count": 334,
   "id": "465e3caa-7398-4ecb-b069-9f6e84441820",
   "metadata": {},
   "outputs": [
    {
     "name": "stdout",
     "output_type": "stream",
     "text": [
      "Accuracy :  0.8622754491017964\n"
     ]
    }
   ],
   "source": [
    "print(\"Accuracy : \",accuracy_score(y_val, y_pred))"
   ]
  },
  {
   "cell_type": "markdown",
   "id": "ce08660b-0a17-4b97-bbb2-31380eb29e89",
   "metadata": {},
   "source": [
    "<h3>lstm model 2</h3>"
   ]
  },
  {
   "cell_type": "code",
   "execution_count": 336,
   "id": "ba4b5f06-9ac0-424b-bc8f-4954376b59ba",
   "metadata": {},
   "outputs": [],
   "source": [
    "model_lstm2 = Sequential([\n",
    "    Embedding(input_dim=vocab_size,\n",
    "              output_dim=embedding_dim,\n",
    "              weights=[embedding_matrix],\n",
    "              trainable=False),\n",
    "\n",
    "    Bidirectional(LSTM(64, return_sequences=False, dropout=0.3, recurrent_dropout=0.3)),\n",
    "\n",
    "    Dense(64, kernel_regularizer=l2(0.001)),\n",
    "    BatchNormalization(),\n",
    "    Activation('relu'),\n",
    "    Dropout(0.5),\n",
    "\n",
    "    Dense(num_classes, activation='softmax')\n",
    "])"
   ]
  },
  {
   "cell_type": "code",
   "execution_count": 338,
   "id": "bfcc6c55-932f-4bbd-9538-9d4da6fad65f",
   "metadata": {},
   "outputs": [],
   "source": [
    "model_lstm2.compile(\n",
    "    optimizer='adam',\n",
    "    loss='sparse_categorical_crossentropy',\n",
    "    metrics=['accuracy']\n",
    ")\n"
   ]
  },
  {
   "cell_type": "code",
   "execution_count": 340,
   "id": "6d3912fa-d043-47c3-9889-2c2479288952",
   "metadata": {},
   "outputs": [],
   "source": [
    "from tensorflow.keras.callbacks import EarlyStopping\n",
    "callbacks = [\n",
    "    EarlyStopping(monitor='val_loss', patience=3, restore_best_weights=True)\n",
    "]\n",
    "\n"
   ]
  },
  {
   "cell_type": "code",
   "execution_count": 160,
   "id": "bc5b8d82-92e0-4139-bf67-2bbbde08b7d6",
   "metadata": {},
   "outputs": [
    {
     "name": "stdout",
     "output_type": "stream",
     "text": [
      "X_train shape: (1336, 30)\n",
      "y_train shape: (1336,)\n"
     ]
    }
   ],
   "source": [
    "print(\"X_train shape:\", X_train.shape)\n",
    "print(\"y_train shape:\", y_train.shape)"
   ]
  },
  {
   "cell_type": "code",
   "execution_count": 342,
   "id": "dc8c1c3d-8bef-470b-86c7-76259d8a8abd",
   "metadata": {},
   "outputs": [
    {
     "name": "stdout",
     "output_type": "stream",
     "text": [
      "Epoch 1/20\n",
      "\u001b[1m42/42\u001b[0m \u001b[32m━━━━━━━━━━━━━━━━━━━━\u001b[0m\u001b[37m\u001b[0m \u001b[1m1s\u001b[0m 10ms/step - accuracy: 0.1857 - loss: 2.5954 - val_accuracy: 0.5269 - val_loss: 2.1163\n",
      "Epoch 2/20\n",
      "\u001b[1m42/42\u001b[0m \u001b[32m━━━━━━━━━━━━━━━━━━━━\u001b[0m\u001b[37m\u001b[0m \u001b[1m0s\u001b[0m 6ms/step - accuracy: 0.4133 - loss: 1.7768 - val_accuracy: 0.6407 - val_loss: 1.9099\n",
      "Epoch 3/20\n",
      "\u001b[1m42/42\u001b[0m \u001b[32m━━━━━━━━━━━━━━━━━━━━\u001b[0m\u001b[37m\u001b[0m \u001b[1m0s\u001b[0m 9ms/step - accuracy: 0.5329 - loss: 1.3876 - val_accuracy: 0.7246 - val_loss: 1.6794\n",
      "Epoch 4/20\n",
      "\u001b[1m42/42\u001b[0m \u001b[32m━━━━━━━━━━━━━━━━━━━━\u001b[0m\u001b[37m\u001b[0m \u001b[1m0s\u001b[0m 10ms/step - accuracy: 0.6116 - loss: 1.1905 - val_accuracy: 0.7635 - val_loss: 1.3816\n",
      "Epoch 5/20\n",
      "\u001b[1m42/42\u001b[0m \u001b[32m━━━━━━━━━━━━━━━━━━━━\u001b[0m\u001b[37m\u001b[0m \u001b[1m0s\u001b[0m 10ms/step - accuracy: 0.6608 - loss: 1.0513 - val_accuracy: 0.8084 - val_loss: 1.1584\n",
      "Epoch 6/20\n",
      "\u001b[1m42/42\u001b[0m \u001b[32m━━━━━━━━━━━━━━━━━━━━\u001b[0m\u001b[37m\u001b[0m \u001b[1m0s\u001b[0m 11ms/step - accuracy: 0.7135 - loss: 0.9549 - val_accuracy: 0.8114 - val_loss: 0.9604\n",
      "Epoch 7/20\n",
      "\u001b[1m42/42\u001b[0m \u001b[32m━━━━━━━━━━━━━━━━━━━━\u001b[0m\u001b[37m\u001b[0m \u001b[1m0s\u001b[0m 10ms/step - accuracy: 0.7624 - loss: 0.8158 - val_accuracy: 0.8234 - val_loss: 0.7985\n",
      "Epoch 8/20\n",
      "\u001b[1m42/42\u001b[0m \u001b[32m━━━━━━━━━━━━━━━━━━━━\u001b[0m\u001b[37m\u001b[0m \u001b[1m0s\u001b[0m 10ms/step - accuracy: 0.7695 - loss: 0.7864 - val_accuracy: 0.8293 - val_loss: 0.6723\n",
      "Epoch 9/20\n",
      "\u001b[1m42/42\u001b[0m \u001b[32m━━━━━━━━━━━━━━━━━━━━\u001b[0m\u001b[37m\u001b[0m \u001b[1m0s\u001b[0m 10ms/step - accuracy: 0.7822 - loss: 0.7129 - val_accuracy: 0.8443 - val_loss: 0.6050\n",
      "Epoch 10/20\n",
      "\u001b[1m42/42\u001b[0m \u001b[32m━━━━━━━━━━━━━━━━━━━━\u001b[0m\u001b[37m\u001b[0m \u001b[1m0s\u001b[0m 11ms/step - accuracy: 0.8034 - loss: 0.6723 - val_accuracy: 0.8293 - val_loss: 0.5468\n",
      "Epoch 11/20\n",
      "\u001b[1m42/42\u001b[0m \u001b[32m━━━━━━━━━━━━━━━━━━━━\u001b[0m\u001b[37m\u001b[0m \u001b[1m1s\u001b[0m 12ms/step - accuracy: 0.8139 - loss: 0.6196 - val_accuracy: 0.8383 - val_loss: 0.5087\n",
      "Epoch 12/20\n",
      "\u001b[1m42/42\u001b[0m \u001b[32m━━━━━━━━━━━━━━━━━━━━\u001b[0m\u001b[37m\u001b[0m \u001b[1m0s\u001b[0m 10ms/step - accuracy: 0.8136 - loss: 0.6079 - val_accuracy: 0.8413 - val_loss: 0.4989\n",
      "Epoch 13/20\n",
      "\u001b[1m42/42\u001b[0m \u001b[32m━━━━━━━━━━━━━━━━━━━━\u001b[0m\u001b[37m\u001b[0m \u001b[1m0s\u001b[0m 11ms/step - accuracy: 0.8092 - loss: 0.6265 - val_accuracy: 0.8593 - val_loss: 0.4658\n",
      "Epoch 14/20\n",
      "\u001b[1m42/42\u001b[0m \u001b[32m━━━━━━━━━━━━━━━━━━━━\u001b[0m\u001b[37m\u001b[0m \u001b[1m0s\u001b[0m 11ms/step - accuracy: 0.8676 - loss: 0.5105 - val_accuracy: 0.8383 - val_loss: 0.4531\n",
      "Epoch 15/20\n",
      "\u001b[1m42/42\u001b[0m \u001b[32m━━━━━━━━━━━━━━━━━━━━\u001b[0m\u001b[37m\u001b[0m \u001b[1m0s\u001b[0m 11ms/step - accuracy: 0.8708 - loss: 0.4956 - val_accuracy: 0.8653 - val_loss: 0.4256\n",
      "Epoch 16/20\n",
      "\u001b[1m42/42\u001b[0m \u001b[32m━━━━━━━━━━━━━━━━━━━━\u001b[0m\u001b[37m\u001b[0m \u001b[1m0s\u001b[0m 11ms/step - accuracy: 0.8728 - loss: 0.4722 - val_accuracy: 0.8653 - val_loss: 0.4242\n",
      "Epoch 17/20\n",
      "\u001b[1m42/42\u001b[0m \u001b[32m━━━━━━━━━━━━━━━━━━━━\u001b[0m\u001b[37m\u001b[0m \u001b[1m0s\u001b[0m 10ms/step - accuracy: 0.8638 - loss: 0.4694 - val_accuracy: 0.8563 - val_loss: 0.4123\n",
      "Epoch 18/20\n",
      "\u001b[1m42/42\u001b[0m \u001b[32m━━━━━━━━━━━━━━━━━━━━\u001b[0m\u001b[37m\u001b[0m \u001b[1m0s\u001b[0m 11ms/step - accuracy: 0.8412 - loss: 0.5318 - val_accuracy: 0.8593 - val_loss: 0.4031\n",
      "Epoch 19/20\n",
      "\u001b[1m42/42\u001b[0m \u001b[32m━━━━━━━━━━━━━━━━━━━━\u001b[0m\u001b[37m\u001b[0m \u001b[1m0s\u001b[0m 12ms/step - accuracy: 0.8884 - loss: 0.4303 - val_accuracy: 0.8563 - val_loss: 0.4060\n",
      "Epoch 20/20\n",
      "\u001b[1m42/42\u001b[0m \u001b[32m━━━━━━━━━━━━━━━━━━━━\u001b[0m\u001b[37m\u001b[0m \u001b[1m0s\u001b[0m 11ms/step - accuracy: 0.8696 - loss: 0.4575 - val_accuracy: 0.8533 - val_loss: 0.4024\n"
     ]
    }
   ],
   "source": [
    "\n",
    "history = model_lstm2.fit(\n",
    "    X_train, y_train,\n",
    "    validation_data=(X_val, y_val),\n",
    "    epochs=20,\n",
    "    batch_size=32,\n",
    "    callbacks=callbacks\n",
    ")"
   ]
  },
  {
   "cell_type": "code",
   "execution_count": 344,
   "id": "af6d9f6f-f46f-4ced-a1e6-66ba503724dd",
   "metadata": {},
   "outputs": [
    {
     "name": "stdout",
     "output_type": "stream",
     "text": [
      "\u001b[1m11/11\u001b[0m \u001b[32m━━━━━━━━━━━━━━━━━━━━\u001b[0m\u001b[37m\u001b[0m \u001b[1m0s\u001b[0m 4ms/step - accuracy: 0.8632 - loss: 0.3793 \n",
      "Test Loss: 0.4024\n",
      "Test Accuracy: 0.8533\n"
     ]
    }
   ],
   "source": [
    "loss, accuracy = model_lstm2.evaluate(X_val, y_val, verbose=1)\n",
    "print(f\"Test Loss: {loss:.4f}\")\n",
    "print(f\"Test Accuracy: {accuracy:.4f}\")"
   ]
  },
  {
   "cell_type": "code",
   "execution_count": 401,
   "id": "07db3377-983a-481e-8405-bba29e481dd0",
   "metadata": {},
   "outputs": [
    {
     "name": "stdout",
     "output_type": "stream",
     "text": [
      "\u001b[1m11/11\u001b[0m \u001b[32m━━━━━━━━━━━━━━━━━━━━\u001b[0m\u001b[37m\u001b[0m \u001b[1m0s\u001b[0m 3ms/step \n",
      "Confusion Matrix:\n",
      " [[34  0  0  0  0  0  0  0  0]\n",
      " [ 0 20  0  0  0 10  0  0  2]\n",
      " [ 0  0 20  0  0  9  1  0  4]\n",
      " [ 0  1  0 42  0  0  0  1  0]\n",
      " [ 0  0  0  0 32  0  0  0  0]\n",
      " [ 0  2  2  0  0 28  0  0  0]\n",
      " [ 0  0  3  1  0  1 36  1  0]\n",
      " [ 0  0  0  3  0  1  0 37  1]\n",
      " [ 0  1  3  1  0  0  1  0 36]]\n",
      "\n",
      "Classification Report:\n",
      "               precision    recall  f1-score   support\n",
      "\n",
      "           0       1.00      1.00      1.00        34\n",
      "           1       0.83      0.62      0.71        32\n",
      "           2       0.71      0.59      0.65        34\n",
      "           3       0.89      0.95      0.92        44\n",
      "           4       1.00      1.00      1.00        32\n",
      "           5       0.57      0.88      0.69        32\n",
      "           6       0.95      0.86      0.90        42\n",
      "           7       0.95      0.88      0.91        42\n",
      "           8       0.84      0.86      0.85        42\n",
      "\n",
      "    accuracy                           0.85       334\n",
      "   macro avg       0.86      0.85      0.85       334\n",
      "weighted avg       0.87      0.85      0.85       334\n",
      "\n"
     ]
    }
   ],
   "source": [
    "# Predicting class probabilities\n",
    "y_pred_probs = model_lstm2.predict(X_val)\n",
    "\n",
    "# Convert to predicted class labels\n",
    "y_pred = np.argmax(y_pred_probs, axis=1)\n",
    "\n",
    "\n",
    "y_true = y_val  \n",
    "\n",
    "# Evaluate\n",
    "from sklearn.metrics import classification_report, confusion_matrix\n",
    "\n",
    "print(\"Confusion Matrix:\\n\", confusion_matrix(y_true, y_pred))\n",
    "print(\"\\nClassification Report:\\n\", classification_report(y_true, y_pred))"
   ]
  },
  {
   "cell_type": "code",
   "execution_count": 403,
   "id": "34c43dbc-a0d2-484e-be9d-91b4d9693544",
   "metadata": {},
   "outputs": [
    {
     "data": {
      "text/plain": [
       "0.8532934131736527"
      ]
     },
     "execution_count": 403,
     "metadata": {},
     "output_type": "execute_result"
    }
   ],
   "source": [
    "accuracy_score(y_true, y_pred)"
   ]
  },
  {
   "cell_type": "markdown",
   "id": "d80cec2a-c158-467d-9299-87e8b354cc18",
   "metadata": {},
   "source": [
    "<h3>model 3 lstm</h3>"
   ]
  },
  {
   "cell_type": "code",
   "execution_count": 407,
   "id": "e5e57c22-dd93-464f-9789-80bc64d57c40",
   "metadata": {},
   "outputs": [],
   "source": [
    "model3 = Sequential([\n",
    "    Embedding(input_dim=vocab_size,\n",
    "              output_dim=embedding_dim,\n",
    "              weights=[embedding_matrix],\n",
    "              trainable=False),\n",
    "    \n",
    "    Bidirectional(LSTM(64, return_sequences=True, dropout=0.3, recurrent_dropout=0.3)),\n",
    "    Bidirectional(LSTM(64, return_sequences=False, dropout=0.3, recurrent_dropout=0.3)),\n",
    "    \n",
    "    Dense(64, kernel_regularizer=l2(0.001)),\n",
    "    BatchNormalization(),\n",
    "    Activation('relu'),\n",
    "    Dropout(0.5),\n",
    "\n",
    "    Dense(num_classes, activation='softmax')\n",
    "])"
   ]
  },
  {
   "cell_type": "code",
   "execution_count": 409,
   "id": "0eed3227-7253-455c-ac20-3d391c635940",
   "metadata": {},
   "outputs": [],
   "source": [
    "import tensorflow as tf\n",
    "model3.compile(\n",
    "    loss='sparse_categorical_crossentropy',  \n",
    "    optimizer=tf.keras.optimizers.Adam(learning_rate=0.001),\n",
    "    metrics=['accuracy']\n",
    ")"
   ]
  },
  {
   "cell_type": "code",
   "execution_count": 411,
   "id": "065289aa-18a2-4932-9ac2-ee4667269faa",
   "metadata": {},
   "outputs": [],
   "source": [
    "\n",
    "early_stop = EarlyStopping(\n",
    "    monitor='val_loss',\n",
    "    patience=3,\n",
    "    restore_best_weights=True\n",
    ")\n",
    "\n"
   ]
  },
  {
   "cell_type": "code",
   "execution_count": 413,
   "id": "8eef2830-4d65-423a-a9f0-cd85b0749c48",
   "metadata": {},
   "outputs": [
    {
     "name": "stdout",
     "output_type": "stream",
     "text": [
      "Epoch 1/30\n",
      "\u001b[1m21/21\u001b[0m \u001b[32m━━━━━━━━━━━━━━━━━━━━\u001b[0m\u001b[37m\u001b[0m \u001b[1m2s\u001b[0m 30ms/step - accuracy: 0.1292 - loss: 2.6626 - val_accuracy: 0.4102 - val_loss: 2.2093\n",
      "Epoch 2/30\n",
      "\u001b[1m21/21\u001b[0m \u001b[32m━━━━━━━━━━━━━━━━━━━━\u001b[0m\u001b[37m\u001b[0m \u001b[1m0s\u001b[0m 20ms/step - accuracy: 0.2986 - loss: 2.0046 - val_accuracy: 0.5359 - val_loss: 2.1086\n",
      "Epoch 3/30\n",
      "\u001b[1m21/21\u001b[0m \u001b[32m━━━━━━━━━━━━━━━━━━━━\u001b[0m\u001b[37m\u001b[0m \u001b[1m0s\u001b[0m 22ms/step - accuracy: 0.4547 - loss: 1.6194 - val_accuracy: 0.6467 - val_loss: 1.9880\n",
      "Epoch 4/30\n",
      "\u001b[1m21/21\u001b[0m \u001b[32m━━━━━━━━━━━━━━━━━━━━\u001b[0m\u001b[37m\u001b[0m \u001b[1m0s\u001b[0m 20ms/step - accuracy: 0.5351 - loss: 1.3513 - val_accuracy: 0.7515 - val_loss: 1.8397\n",
      "Epoch 5/30\n",
      "\u001b[1m21/21\u001b[0m \u001b[32m━━━━━━━━━━━━━━━━━━━━\u001b[0m\u001b[37m\u001b[0m \u001b[1m1s\u001b[0m 34ms/step - accuracy: 0.6165 - loss: 1.1853 - val_accuracy: 0.7904 - val_loss: 1.6930\n",
      "Epoch 6/30\n",
      "\u001b[1m21/21\u001b[0m \u001b[32m━━━━━━━━━━━━━━━━━━━━\u001b[0m\u001b[37m\u001b[0m \u001b[1m1s\u001b[0m 39ms/step - accuracy: 0.6904 - loss: 0.9849 - val_accuracy: 0.8114 - val_loss: 1.5270\n",
      "Epoch 7/30\n",
      "\u001b[1m21/21\u001b[0m \u001b[32m━━━━━━━━━━━━━━━━━━━━\u001b[0m\u001b[37m\u001b[0m \u001b[1m1s\u001b[0m 38ms/step - accuracy: 0.7331 - loss: 0.9140 - val_accuracy: 0.8234 - val_loss: 1.3536\n",
      "Epoch 8/30\n",
      "\u001b[1m21/21\u001b[0m \u001b[32m━━━━━━━━━━━━━━━━━━━━\u001b[0m\u001b[37m\u001b[0m \u001b[1m1s\u001b[0m 42ms/step - accuracy: 0.7544 - loss: 0.8464 - val_accuracy: 0.8533 - val_loss: 1.1733\n",
      "Epoch 9/30\n",
      "\u001b[1m21/21\u001b[0m \u001b[32m━━━━━━━━━━━━━━━━━━━━\u001b[0m\u001b[37m\u001b[0m \u001b[1m1s\u001b[0m 38ms/step - accuracy: 0.7603 - loss: 0.7747 - val_accuracy: 0.8503 - val_loss: 0.9869\n",
      "Epoch 10/30\n",
      "\u001b[1m21/21\u001b[0m \u001b[32m━━━━━━━━━━━━━━━━━━━━\u001b[0m\u001b[37m\u001b[0m \u001b[1m1s\u001b[0m 39ms/step - accuracy: 0.8128 - loss: 0.7215 - val_accuracy: 0.8503 - val_loss: 0.8675\n",
      "Epoch 11/30\n",
      "\u001b[1m21/21\u001b[0m \u001b[32m━━━━━━━━━━━━━━━━━━━━\u001b[0m\u001b[37m\u001b[0m \u001b[1m1s\u001b[0m 39ms/step - accuracy: 0.7942 - loss: 0.7078 - val_accuracy: 0.8533 - val_loss: 0.7677\n",
      "Epoch 12/30\n",
      "\u001b[1m21/21\u001b[0m \u001b[32m━━━━━━━━━━━━━━━━━━━━\u001b[0m\u001b[37m\u001b[0m \u001b[1m1s\u001b[0m 40ms/step - accuracy: 0.8316 - loss: 0.6101 - val_accuracy: 0.8623 - val_loss: 0.6765\n",
      "Epoch 13/30\n",
      "\u001b[1m21/21\u001b[0m \u001b[32m━━━━━━━━━━━━━━━━━━━━\u001b[0m\u001b[37m\u001b[0m \u001b[1m1s\u001b[0m 38ms/step - accuracy: 0.8387 - loss: 0.5964 - val_accuracy: 0.8473 - val_loss: 0.6089\n",
      "Epoch 14/30\n",
      "\u001b[1m21/21\u001b[0m \u001b[32m━━━━━━━━━━━━━━━━━━━━\u001b[0m\u001b[37m\u001b[0m \u001b[1m1s\u001b[0m 38ms/step - accuracy: 0.8302 - loss: 0.6104 - val_accuracy: 0.8503 - val_loss: 0.5392\n",
      "Epoch 15/30\n",
      "\u001b[1m21/21\u001b[0m \u001b[32m━━━━━━━━━━━━━━━━━━━━\u001b[0m\u001b[37m\u001b[0m \u001b[1m1s\u001b[0m 39ms/step - accuracy: 0.8428 - loss: 0.5487 - val_accuracy: 0.8683 - val_loss: 0.5114\n",
      "Epoch 16/30\n",
      "\u001b[1m21/21\u001b[0m \u001b[32m━━━━━━━━━━━━━━━━━━━━\u001b[0m\u001b[37m\u001b[0m \u001b[1m1s\u001b[0m 41ms/step - accuracy: 0.8501 - loss: 0.5004 - val_accuracy: 0.8713 - val_loss: 0.4810\n",
      "Epoch 17/30\n",
      "\u001b[1m21/21\u001b[0m \u001b[32m━━━━━━━━━━━━━━━━━━━━\u001b[0m\u001b[37m\u001b[0m \u001b[1m1s\u001b[0m 40ms/step - accuracy: 0.8378 - loss: 0.5288 - val_accuracy: 0.8563 - val_loss: 0.4441\n",
      "Epoch 18/30\n",
      "\u001b[1m21/21\u001b[0m \u001b[32m━━━━━━━━━━━━━━━━━━━━\u001b[0m\u001b[37m\u001b[0m \u001b[1m1s\u001b[0m 41ms/step - accuracy: 0.8662 - loss: 0.4900 - val_accuracy: 0.8653 - val_loss: 0.4493\n",
      "Epoch 19/30\n",
      "\u001b[1m21/21\u001b[0m \u001b[32m━━━━━━━━━━━━━━━━━━━━\u001b[0m\u001b[37m\u001b[0m \u001b[1m1s\u001b[0m 41ms/step - accuracy: 0.8632 - loss: 0.5026 - val_accuracy: 0.8593 - val_loss: 0.4537\n",
      "Epoch 20/30\n",
      "\u001b[1m21/21\u001b[0m \u001b[32m━━━━━━━━━━━━━━━━━━━━\u001b[0m\u001b[37m\u001b[0m \u001b[1m1s\u001b[0m 41ms/step - accuracy: 0.8627 - loss: 0.4694 - val_accuracy: 0.8743 - val_loss: 0.4204\n",
      "Epoch 21/30\n",
      "\u001b[1m21/21\u001b[0m \u001b[32m━━━━━━━━━━━━━━━━━━━━\u001b[0m\u001b[37m\u001b[0m \u001b[1m1s\u001b[0m 41ms/step - accuracy: 0.8803 - loss: 0.4447 - val_accuracy: 0.8683 - val_loss: 0.4107\n",
      "Epoch 22/30\n",
      "\u001b[1m21/21\u001b[0m \u001b[32m━━━━━━━━━━━━━━━━━━━━\u001b[0m\u001b[37m\u001b[0m \u001b[1m1s\u001b[0m 40ms/step - accuracy: 0.8883 - loss: 0.4061 - val_accuracy: 0.8713 - val_loss: 0.3959\n",
      "Epoch 23/30\n",
      "\u001b[1m21/21\u001b[0m \u001b[32m━━━━━━━━━━━━━━━━━━━━\u001b[0m\u001b[37m\u001b[0m \u001b[1m1s\u001b[0m 40ms/step - accuracy: 0.8853 - loss: 0.4084 - val_accuracy: 0.8772 - val_loss: 0.4011\n",
      "Epoch 24/30\n",
      "\u001b[1m21/21\u001b[0m \u001b[32m━━━━━━━━━━━━━━━━━━━━\u001b[0m\u001b[37m\u001b[0m \u001b[1m1s\u001b[0m 40ms/step - accuracy: 0.9021 - loss: 0.3661 - val_accuracy: 0.8832 - val_loss: 0.3945\n",
      "Epoch 25/30\n",
      "\u001b[1m21/21\u001b[0m \u001b[32m━━━━━━━━━━━━━━━━━━━━\u001b[0m\u001b[37m\u001b[0m \u001b[1m1s\u001b[0m 40ms/step - accuracy: 0.8939 - loss: 0.3897 - val_accuracy: 0.8653 - val_loss: 0.4066\n",
      "Epoch 26/30\n",
      "\u001b[1m21/21\u001b[0m \u001b[32m━━━━━━━━━━━━━━━━━━━━\u001b[0m\u001b[37m\u001b[0m \u001b[1m1s\u001b[0m 40ms/step - accuracy: 0.9071 - loss: 0.3382 - val_accuracy: 0.8802 - val_loss: 0.4310\n",
      "Epoch 27/30\n",
      "\u001b[1m21/21\u001b[0m \u001b[32m━━━━━━━━━━━━━━━━━━━━\u001b[0m\u001b[37m\u001b[0m \u001b[1m1s\u001b[0m 41ms/step - accuracy: 0.9005 - loss: 0.3649 - val_accuracy: 0.8683 - val_loss: 0.4187\n"
     ]
    }
   ],
   "source": [
    "history = model3.fit(\n",
    "    X_train, y_train,\n",
    "    validation_data=(X_val, y_val),\n",
    "    epochs=30,\n",
    "    batch_size=64,\n",
    "    callbacks=[early_stop],\n",
    "    \n",
    "    verbose=1\n",
    ")"
   ]
  },
  {
   "cell_type": "code",
   "execution_count": 421,
   "id": "b0e51d59-fd2e-4348-bd99-f4a9623dd98a",
   "metadata": {},
   "outputs": [
    {
     "data": {
      "text/plain": [
       "Text(0.5, 1.0, 'Training vs Validation Accuracy')"
      ]
     },
     "execution_count": 421,
     "metadata": {},
     "output_type": "execute_result"
    },
    {
     "data": {
      "image/png": "[encoded data removed]",
      "text/plain": [
       "<Figure size 1200x500 with 1 Axes>"
      ]
     },
     "metadata": {},
     "output_type": "display_data"
    }
   ],
   "source": [
    "plt.figure(figsize=(12, 5))\n",
    "plt.subplot(1, 2, 1)\n",
    "plt.plot(history.history['accuracy'], label='Train Acc')\n",
    "plt.plot(history.history['val_accuracy'], label='Val Acc')\n",
    "plt.xlabel('Epochs')\n",
    "plt.ylabel('Accuracy')\n",
    "plt.legend()\n",
    "plt.title('Training vs Validation Accuracy')"
   ]
  },
  {
   "cell_type": "code",
   "execution_count": 423,
   "id": "4bbed475-af13-4539-92d9-dc1363df3a91",
   "metadata": {},
   "outputs": [
    {
     "name": "stdout",
     "output_type": "stream",
     "text": [
      "\u001b[1m11/11\u001b[0m \u001b[32m━━━━━━━━━━━━━━━━━━━━\u001b[0m\u001b[37m\u001b[0m \u001b[1m0s\u001b[0m 5ms/step \n",
      "                               precision    recall  f1-score   support\n",
      "\n",
      "            Certificate Issue       0.97      1.00      0.99        34\n",
      "        Content Quality Issue       0.88      0.69      0.77        32\n",
      "          Course Access Issue       0.73      0.79      0.76        34\n",
      "       Customer Support Issue       0.91      0.93      0.92        44\n",
      "             Instructor Issue       1.00      0.97      0.98        32\n",
      "Misleading Course Description       0.74      0.91      0.82        32\n",
      "                Payment Issue       0.92      0.86      0.89        42\n",
      "                 Refund Issue       0.95      0.93      0.94        42\n",
      "             Technical Glitch       0.86      0.86      0.86        42\n",
      "\n",
      "                     accuracy                           0.88       334\n",
      "                    macro avg       0.89      0.88      0.88       334\n",
      "                 weighted avg       0.89      0.88      0.88       334\n",
      "\n"
     ]
    }
   ],
   "source": [
    "\n",
    "y_pred_probs = model3.predict(X_val)\n",
    "\n",
    "# Get predicted class labels\n",
    "y_pred = np.argmax(y_pred_probs, axis=1)\n",
    "\n",
    "# Classification report \n",
    "print(classification_report(y_val, y_pred, target_names=class_names))"
   ]
  },
  {
   "cell_type": "code",
   "execution_count": 425,
   "id": "25ec93e8-a10c-43e2-8996-2c8c3bbbc54e",
   "metadata": {},
   "outputs": [
    {
     "name": "stdout",
     "output_type": "stream",
     "text": [
      "Accuracy: 88.32335329341318\n"
     ]
    }
   ],
   "source": [
    "acc = accuracy_score(y_val, y_pred)\n",
    "print(\"Accuracy:\", acc*100)"
   ]
  },
  {
   "cell_type": "code",
   "execution_count": 427,
   "id": "a0827a6b-b800-4bcf-b806-13df1c4ef585",
   "metadata": {},
   "outputs": [
    {
     "name": "stdout",
     "output_type": "stream",
     "text": [
      "Precision (macro): 0.885255383141562\n",
      "Recall (macro): 0.8812547746371275\n",
      "F1-score (macro): 0.8806853267311844\n"
     ]
    }
   ],
   "source": [
    "precision = precision_score(y_val, y_pred, average='macro')\n",
    "recall = recall_score(y_val, y_pred, average='macro')\n",
    "f1 = f1_score(y_val, y_pred, average='macro')\n",
    "\n",
    "print(\"Precision (macro):\", precision)\n",
    "print(\"Recall (macro):\", recall)\n",
    "print(\"F1-score (macro):\", f1)"
   ]
  },
  {
   "cell_type": "code",
   "execution_count": 432,
   "id": "7a526f89-c3df-4ed5-811a-828c75b38df6",
   "metadata": {},
   "outputs": [
    {
     "name": "stderr",
     "output_type": "stream",
     "text": [
      "WARNING:absl:You are saving your model as an HDF5 file via `model.save()` or `keras.saving.save_model(model)`. This file format is considered legacy. We recommend using instead the native Keras format, e.g. `model.save('my_model.keras')` or `keras.saving.save_model(model, 'my_model.keras')`. \n"
     ]
    }
   ],
   "source": [
    "model3.save(\"complaint_classifier_model.h5\")"
   ]
  },
  {
   "cell_type": "code",
   "execution_count": 435,
   "id": "ab8af846-0b8a-4958-840f-230a6eb037d2",
   "metadata": {},
   "outputs": [],
   "source": [
    "# saving tokenzizer"
   ]
  },
  {
   "cell_type": "code",
   "execution_count": 437,
   "id": "8310468f-2441-4ae0-b47e-ad579de23cc0",
   "metadata": {},
   "outputs": [],
   "source": [
    "with open(\"tokenizer.pkl\", \"wb\") as f:\n",
    "    pickle.dump(tokenizer, f)"
   ]
  },
  {
   "cell_type": "code",
   "execution_count": 441,
   "id": "df0901b4-3f76-428d-b8fd-e585ed2cfd2d",
   "metadata": {},
   "outputs": [],
   "source": [
    "# saving labelencoder"
   ]
  },
  {
   "cell_type": "code",
   "execution_count": 443,
   "id": "1ba6c072-4590-45b7-b524-d1c676889a23",
   "metadata": {},
   "outputs": [],
   "source": [
    "with open(\"label_encoder.pkl\", \"wb\") as f:\n",
    "    pickle.dump(label_encoder, f)"
   ]
  },
  {
   "cell_type": "code",
   "execution_count": null,
   "id": "7a270ddc-aef7-4ca7-adc2-9fd68fe618d0",
   "metadata": {},
   "outputs": [],
   "source": []
  }
 ],
 "metadata": {
  "kernelspec": {
   "display_name": "Python 3 (ipykernel)",
   "language": "python",
   "name": "python3"
  },
  "language_info": {
   "codemirror_mode": {
    "name": "ipython",
    "version": 3
   },
   "file_extension": ".py",
   "mimetype": "text/x-python",
   "name": "python",
   "nbconvert_exporter": "python",
   "pygments_lexer": "ipython3",
   "version": "3.12.4"
  }
 },
 "nbformat": 4,
 "nbformat_minor": 5
}
