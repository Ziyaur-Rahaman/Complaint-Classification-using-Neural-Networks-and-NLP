{
 "cells": [
  {
   "cell_type": "code",
   "execution_count": 79,
   "id": "48b71aad-dc85-4e18-b5f5-44d57224143d",
   "metadata": {},
   "outputs": [],
   "source": [
    "from tensorflow.keras.models import load_model\n",
    "import pickle\n",
    "from keras.preprocessing.sequence import pad_sequences\n",
    "import numpy as np"
   ]
  },
  {
   "cell_type": "code",
   "execution_count": 43,
   "id": "dd193a6e-f1bb-4163-8192-3f68b7683013",
   "metadata": {},
   "outputs": [
    {
     "name": "stderr",
     "output_type": "stream",
     "text": [
      "WARNING:absl:Compiled the loaded model, but the compiled metrics have yet to be built. `model.compile_metrics` will be empty until you train or evaluate the model.\n"
     ]
    }
   ],
   "source": [
    "# loading model\n",
    "model = load_model(\"complaint_classifier_model.h5\")"
   ]
  },
  {
   "cell_type": "code",
   "execution_count": 45,
   "id": "96d19349-8786-413b-965a-00c8d30c844f",
   "metadata": {},
   "outputs": [],
   "source": [
    "# Loading tokenizer\n",
    "with open(\"tokenizer.pkl\", \"rb\") as f:\n",
    "    tokenizer = pickle.load(f)"
   ]
  },
  {
   "cell_type": "code",
   "execution_count": 47,
   "id": "e7e7d1d3-4b32-4490-ac22-1de89a44a761",
   "metadata": {},
   "outputs": [],
   "source": [
    "#loading label encoder\n",
    "with open(\"label_encoder.pkl\", \"rb\") as f:\n",
    "    label_encoder = pickle.load(f)\n"
   ]
  },
  {
   "cell_type": "code",
   "execution_count": 59,
   "id": "69d16066-e9b3-4781-9fb4-e1555f2d540c",
   "metadata": {},
   "outputs": [],
   "source": [
    "new_texts = [\"Course progress is not being saved properly on Codecademy\"]"
   ]
  },
  {
   "cell_type": "code",
   "execution_count": 61,
   "id": "5ec74929-5ad8-443a-ac15-08806f59e010",
   "metadata": {},
   "outputs": [],
   "source": [
    "# Converting text to sequence of tokens\n",
    "seq = tokenizer.texts_to_sequences(new_texts)\n",
    "\n",
    "\n",
    "maxlen = 30 \n",
    "padded_seq = pad_sequences(seq, maxlen=maxlen, padding='post')"
   ]
  },
  {
   "cell_type": "code",
   "execution_count": 63,
   "id": "19c0401e-1bf9-4b58-96c6-8ea3aebe9b85",
   "metadata": {},
   "outputs": [
    {
     "name": "stdout",
     "output_type": "stream",
     "text": [
      "\u001b[1m1/1\u001b[0m \u001b[32m━━━━━━━━━━━━━━━━━━━━\u001b[0m\u001b[37m\u001b[0m \u001b[1m0s\u001b[0m 17ms/step\n",
      "Predicted class: 2\n"
     ]
    }
   ],
   "source": [
    "# Get prediction probabilities\n",
    "probs = model.predict(padded_seq)\n",
    "\n",
    "# Get predicted class index\n",
    "predicted_class = probs.argmax(axis=1)[0]\n",
    "\n",
    "print(\"Predicted class:\", predicted_class)"
   ]
  },
  {
   "cell_type": "code",
   "execution_count": 71,
   "id": "dcfca36f-04a8-452f-b380-e8d0e9a6ce0d",
   "metadata": {},
   "outputs": [
    {
     "name": "stdout",
     "output_type": "stream",
     "text": [
      "Predicted label: Course Access Issue\n"
     ]
    }
   ],
   "source": [
    "\n",
    "# Decodeing  predicted class index to label\n",
    "predicted_label = label_encoder.inverse_transform([predicted_class])[0]\n",
    "print(\"Predicted label:\", predicted_label)"
   ]
  },
  {
   "cell_type": "code",
   "execution_count": null,
   "id": "e6f3ca16-d2ff-4d7f-a51c-8d9660ced5b0",
   "metadata": {},
   "outputs": [],
   "source": []
  },
  {
   "cell_type": "code",
   "execution_count": 105,
   "id": "7f0a93ce-d6f7-44f1-80b1-a57776a7e125",
   "metadata": {},
   "outputs": [],
   "source": [
    "sample_complaints = [\n",
    "    \"I've been trying to reach customer support for 3 days with no response.\",\n",
    "    \"The payment went through but it's still showing as pending.\",\n",
    "    \"The video keeps freezing every few minutes.\",\n",
    "    \"I applied for a refund but haven't received my money.\",\n",
    "    \"I enrolled in the course but it’s not showing up in my dashboard.\",\n",
    "    \"The instructor is not responding to any queries.\",\n",
    "    \"The video quality is poor and the content seems outdated.\"\n",
    "]"
   ]
  },
  {
   "cell_type": "code",
   "execution_count": 107,
   "id": "94e08525-7cd7-49dd-9efa-3f98d2eb1ab7",
   "metadata": {},
   "outputs": [],
   "source": [
    "sequences = tokenizer.texts_to_sequences(sample_complaints)\n",
    "X_sample = pad_sequences(sequences, maxlen=30)"
   ]
  },
  {
   "cell_type": "code",
   "execution_count": 109,
   "id": "0070f368-23f4-454e-9abb-4964a2dd3cb1",
   "metadata": {},
   "outputs": [
    {
     "name": "stdout",
     "output_type": "stream",
     "text": [
      "\u001b[1m1/1\u001b[0m \u001b[32m━━━━━━━━━━━━━━━━━━━━\u001b[0m\u001b[37m\u001b[0m \u001b[1m0s\u001b[0m 20ms/step\n"
     ]
    }
   ],
   "source": [
    "pred_probs = model.predict(X_sample)\n",
    "pred_classes = np.argmax(pred_probs, axis=1)"
   ]
  },
  {
   "cell_type": "code",
   "execution_count": 111,
   "id": "e8320371-66c0-4c39-b0f9-d97463ee138e",
   "metadata": {},
   "outputs": [
    {
     "data": {
      "text/plain": [
       "array([3, 6, 8, 6, 2, 4, 8])"
      ]
     },
     "execution_count": 111,
     "metadata": {},
     "output_type": "execute_result"
    }
   ],
   "source": [
    "pred_classes"
   ]
  },
  {
   "cell_type": "code",
   "execution_count": 113,
   "id": "886185e4-03db-467e-bb66-8eb25ab127b0",
   "metadata": {},
   "outputs": [
    {
     "name": "stdout",
     "output_type": "stream",
     "text": [
      "I've been trying to reach customer support for 3 days with no response.\n",
      "Predicted label: Customer Support Issue\n",
      "\n",
      "\n",
      "The payment went through but it's still showing as pending.\n",
      "Predicted label: Payment Issue\n",
      "\n",
      "\n",
      "The video keeps freezing every few minutes.\n",
      "Predicted label: Technical Glitch\n",
      "\n",
      "\n",
      "I applied for a refund but haven't received my money.\n",
      "Predicted label: Payment Issue\n",
      "\n",
      "\n",
      "I enrolled in the course but it’s not showing up in my dashboard.\n",
      "Predicted label: Course Access Issue\n",
      "\n",
      "\n",
      "The instructor is not responding to any queries.\n",
      "Predicted label: Instructor Issue\n",
      "\n",
      "\n",
      "The video quality is poor and the content seems outdated.\n",
      "Predicted label: Technical Glitch\n",
      "\n",
      "\n"
     ]
    }
   ],
   "source": [
    "for i in range(0,len(pred_classes)):\n",
    "    print(sample_complaints[i])\n",
    "    predicted_label = label_encoder.inverse_transform([pred_classes[i]])[0]\n",
    "    print(\"Predicted label:\", predicted_label)\n",
    "    print(\"\\n\")"
   ]
  },
  {
   "cell_type": "code",
   "execution_count": null,
   "id": "a05afc75-a595-478f-ad34-0dcf2575704a",
   "metadata": {},
   "outputs": [],
   "source": []
  }
 ],
 "metadata": {
  "kernelspec": {
   "display_name": "Python 3 (ipykernel)",
   "language": "python",
   "name": "python3"
  },
  "language_info": {
   "codemirror_mode": {
    "name": "ipython",
    "version": 3
   },
   "file_extension": ".py",
   "mimetype": "text/x-python",
   "name": "python",
   "nbconvert_exporter": "python",
   "pygments_lexer": "ipython3",
   "version": "3.12.4"
  }
 },
 "nbformat": 4,
 "nbformat_minor": 5
}
